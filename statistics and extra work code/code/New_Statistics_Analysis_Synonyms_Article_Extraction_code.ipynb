{
  "nbformat": 4,
  "nbformat_minor": 0,
  "metadata": {
    "colab": {
      "private_outputs": true,
      "provenance": [],
      "collapsed_sections": []
    },
    "kernelspec": {
      "name": "python3",
      "display_name": "Python 3"
    },
    "language_info": {
      "name": "python"
    }
  },
  "cells": [
    {
      "cell_type": "markdown",
      "source": [
        "# **Extracting articles ID from PubMed with a list of synonyms for statistical analysis**"
      ],
      "metadata": {
        "id": "f32FT1hZKMaa"
      }
    },
    {
      "cell_type": "markdown",
      "source": [
        "The code consists of the follwoing Task\n",
        "\n",
        "Find articles still using an old scientific name (a.k.a. synonyms of current scientific name) from a list of synonyms.\n",
        "The code for single occurence is reused for this purpose .It also used for statistical analysis on the number of relevant articles retreived from PubMed"
      ],
      "metadata": {
        "id": "3sm4zX8mSCrO"
      }
    },
    {
      "cell_type": "markdown",
      "source": [
        "Required Installations"
      ],
      "metadata": {
        "id": "OVPl9j-vXGTF"
      }
    },
    {
      "cell_type": "code",
      "source": [
        "!pip install biopython\n",
        "!pip install beautifulsoup4\n",
        "!pip install --upgrade openpyxl==3.0.5\n",
        "!pip install --upgrade pandas==1.1.2\n",
        "!pip install --upgrade python==3.7\n",
        "!pip install XlsxWriter"
      ],
      "metadata": {
        "id": "nW25bdjFW5GW"
      },
      "execution_count": null,
      "outputs": []
    },
    {
      "cell_type": "markdown",
      "source": [
        "\n",
        "import dependent libraries"
      ],
      "metadata": {
        "id": "u231u6bTKvQn"
      }
    },
    {
      "cell_type": "code",
      "execution_count": null,
      "metadata": {
        "id": "1GC78xnoKKOH"
      },
      "outputs": [],
      "source": [
        "import pandas as pd\n",
        "import re\n",
        "import Bio\n",
        "import requests\n",
        "from bs4 import BeautifulSoup\n",
        "from Bio import Entrez\n",
        "Entrez.email =  \"radhu.palliyana@gmail.com\" # provide mail id after creating api key\n",
        "from openpyxl import load_workbook\n",
        "import xlsxwriter"
      ]
    },
    {
      "cell_type": "code",
      "source": [
        "from google.colab import drive\n",
        "drive.mount('/content/drive') "
      ],
      "metadata": {
        "id": "OuzmFtKeeCZh"
      },
      "execution_count": null,
      "outputs": []
    },
    {
      "cell_type": "markdown",
      "source": [
        "Load MPNS version 11 datasets:\n",
        "\n",
        "\n",
        "1.   mpns_v11_non_sci_names_1.csv containing non scientific names or common or pharmaceutical names of medicinal plants\n",
        "2.   mpns_v11_plants_1.csv containing scientific names of medicinal plants\n",
        "3.   mpns_v11_synonyms_1.csv containing synonyms or old scientific names of medicinal plants"
      ],
      "metadata": {
        "id": "xa2NVjpOVUwT"
      }
    },
    {
      "cell_type": "code",
      "source": [
        "mpns_non_sci = pd.read_csv(\"/content/drive/MyDrive/Dissertation/mpns_v11_non_sci_names_1.csv\")\n",
        "mpns_plant = pd.read_csv(\"/content/drive/MyDrive/Dissertation/mpns_v11_plants_1.csv\")\n",
        "mpns_synon = pd.read_csv(\"/content/drive/MyDrive/Dissertation/mpns_v11_synonyms_1.csv\")"
      ],
      "metadata": {
        "id": "g2Ig14ENVYiJ"
      },
      "execution_count": null,
      "outputs": []
    },
    {
      "cell_type": "markdown",
      "source": [
        "**Find articles still using an old scientific name (a.k.a. synonyms of current scientific name)**"
      ],
      "metadata": {
        "id": "6HTxhxuqKc8D"
      }
    },
    {
      "cell_type": "markdown",
      "source": [
        "merging Table 1 ,mpns plant dataset and Table 2 , mpns non scientific dataset together with corresponding name id(table 1) and acc_name_id(table 2)\n",
        "\n",
        "As per MPNS Data dictionary acc_name_id field value links each and every row in TABLE 2 SYNONYMS to ONE data row in TABLE 1 PLANTS\n"
      ],
      "metadata": {
        "id": "8yLdcrvbMy9p"
      }
    },
    {
      "cell_type": "markdown",
      "source": [
        "**Data Cleaning and feature engineering**"
      ],
      "metadata": {
        "id": "d3CCyyv2PBLr"
      }
    },
    {
      "cell_type": "code",
      "source": [
        "mpns_synon.rename(columns ={'full_scientific_name':'full_scientific_name_synonym'},inplace= True)"
      ],
      "metadata": {
        "id": "Cxd79vj67UwW"
      },
      "execution_count": null,
      "outputs": []
    },
    {
      "cell_type": "code",
      "source": [
        "#After confirming from Kew Garden team Misapplied names are ignored\n",
        "mpns_synon.drop(mpns_synon.loc[mpns_synon['taxon_status']=='Misapplied'].index, inplace = True)\n",
        "mpns_synon.drop(mpns_synon.loc[mpns_synon['quality_rating']=='L'].index, inplace = True)"
      ],
      "metadata": {
        "id": "gppOySfKO6oJ"
      },
      "execution_count": null,
      "outputs": []
    },
    {
      "cell_type": "code",
      "source": [
        "#dropping the following coumns as its not required for the mapping\n",
        "mpns_synon.drop(['genus_hybrid','species_hybrid','infra_species','parent_author','primary_author'],axis ='columns',inplace = True) # dropped the columns from synonyms dataset\n",
        "mpns_plant.drop(['genus_hybrid','species_hybrid','infra_species','parent_author','primary_author'],axis ='columns',inplace = True) # dropped the columns from scientific name of plant dataset"
      ],
      "metadata": {
        "id": "w6n_efnpPZzG"
      },
      "execution_count": null,
      "outputs": []
    },
    {
      "cell_type": "code",
      "source": [
        "art1 = pd.merge(mpns_plant,mpns_synon, how = \"left\" , left_on= \"name_id\",right_on=\"acc_name_id\")\n",
        "#art1 = pd.concat([mpns_plant,mpns_synon], ignore_index=True, sort=False)\n",
        "#print(art1.head())\n",
        "# Checking for header values\n",
        "for col in art1.columns:\n",
        "    print(col)"
      ],
      "metadata": {
        "id": "PLR5dym6L0iG"
      },
      "execution_count": null,
      "outputs": []
    },
    {
      "cell_type": "code",
      "source": [
        "#checking for null values\n",
        "print(art1.shape[0] - art1.count())"
      ],
      "metadata": {
        "id": "7pwihMKCNI8h"
      },
      "execution_count": null,
      "outputs": []
    },
    {
      "cell_type": "code",
      "source": [
        "#dataframe created for plants names with synonyms used after merging with dataset containing scientific name(mpns_plant) and synonyms(mpns_synon) of plants\n",
        "art1_synon = art1[~art1['full_scientific_name_synonym'].isnull()] # plants with synonyms as null is removed"
      ],
      "metadata": {
        "id": "f4FqHJdDSo_H"
      },
      "execution_count": null,
      "outputs": []
    },
    {
      "cell_type": "code",
      "source": [
        "#checking for null values\n",
        "print(art1_synon.shape[0] - art1_synon.count())"
      ],
      "metadata": {
        "id": "w06FQoWPS_pU"
      },
      "execution_count": null,
      "outputs": []
    },
    {
      "cell_type": "code",
      "source": [
        "#dataframe choosen for taxon_status as synonym only\n",
        "art1_synon = (art1_synon.loc[art1_synon['taxon_status_y']== 'Synonym'])"
      ],
      "metadata": {
        "id": "MfL8AF7bTq5O"
      },
      "execution_count": null,
      "outputs": []
    },
    {
      "cell_type": "code",
      "source": [
        "#checking for null values\n",
        "print(art1_synon.shape[0] - art1_synon.count())"
      ],
      "metadata": {
        "id": "m-pbcGusT5-E"
      },
      "execution_count": null,
      "outputs": []
    },
    {
      "cell_type": "code",
      "source": [
        "art1_synon = art1_synon[~art1_synon['full_scientific_name'].isnull()] #plants with scientific name null is removed as TypeError: decoding to str: need a bytes-like object, float found is displayed due to null scientific names.Also count of null values is less for full_scientific_name .It is 1975 in total\n",
        "print(art1_synon.shape[0] - art1_synon.count()) # checking for null values"
      ],
      "metadata": {
        "id": "Rvna5d1zyKsQ"
      },
      "execution_count": null,
      "outputs": []
    },
    {
      "cell_type": "markdown",
      "source": [
        "Checking for multiple occurence of synonyms"
      ],
      "metadata": {
        "id": "GTnVci37H4BO"
      }
    },
    {
      "cell_type": "code",
      "source": [
        "art1_synon_duplicate =art1_synon[art1_synon.duplicated('full_scientific_name_synonym')]\n",
        "print('Duplicated rows are ', art1_synon_duplicate) #315 rows are duplicated which means there are multiple occurence of the Synonym"
      ],
      "metadata": {
        "id": "-1oLXal6FBYl"
      },
      "execution_count": null,
      "outputs": []
    },
    {
      "cell_type": "markdown",
      "source": [
        "Get first 10 rows of synonym"
      ],
      "metadata": {
        "id": "uluds9rzM37l"
      }
    },
    {
      "cell_type": "code",
      "source": [
        "art1_synon_head = art1_synon.head(100) # top 100 terms taken"
      ],
      "metadata": {
        "id": "obghetGGNem7"
      },
      "execution_count": null,
      "outputs": []
    },
    {
      "cell_type": "code",
      "source": [
        "#selecting range\n",
        "art1_synon_head = art1_synon.iloc[1003:1100] #rows taken from the dataset after 10003rd value till 1100(excluding 1100th position)"
      ],
      "metadata": {
        "id": "v5gpMZOU76PG"
      },
      "execution_count": null,
      "outputs": []
    },
    {
      "cell_type": "markdown",
      "source": [
        "Looking for articles having synonyms"
      ],
      "metadata": {
        "id": "W4i_wlQuNZyp"
      }
    },
    {
      "cell_type": "code",
      "source": [
        "import time\n",
        "synonym_name = art1_synon_head['full_scientific_name_synonym']\n",
        "for j in synonym_name:\n",
        "    \n",
        "    term_synon = f\"{j}\"\n",
        "    print(term_synon)\n",
        "    scientific_name_synonym=(art1_synon.loc[art1_synon['full_scientific_name_synonym']== term_synon,'full_scientific_name']).iloc[0] #full scientific name corresponding to synonym is selected\n",
        "    scientific_name_synonym = scientific_name_synonym.strip('. ')# strip all '.' from the beginning and end of string\n",
        "    len_sci_synonym= len(scientific_name_synonym ) #calculating the length of the scientific name for the given synonym\n",
        "    len_synonym = len(term_synon)#calculating the length of the synonym\n",
        "    time.sleep(0.5)\n",
        "    handle = Entrez.esearch(db =\"pmc\", term= term_synon,retmax= \"500\")# search and retrieve article id for each synonym\n",
        "    rec_list = Entrez.read(handle)\n",
        "    handle.close()\n",
        "    #print(rec_list['Count'])\n",
        "    Total_article = (rec_list['Count'])\n",
        "    #print(len(rec_list['IdList']))\n",
        "    Ret_max_val = (len(rec_list['IdList']))\n",
        "    #print(rec_list['IdList'])\n",
        "    total_id = rec_list['IdList']\n",
        "    #print(\"scientific name of term \"+term_synon+\" is :\",scientific_name_synonym )\n",
        "    \n",
        "    no_synon_1 = 0 #count number of articles with synonym in the body of the article\n",
        "    no_synon_2 = 0 #count number of articles with synonym in the abstract of the article\n",
        "    no_sci_1 = 0 #count number of articles with scientific name in the body of the article\n",
        "    no_sci_2 = 0 #count number of articles with scientific name in the abstract of the article\n",
        "    no_body = 0 #Count number of articles with no body\n",
        "    Tot_extrac =0 #Actual number of articles retreived\n",
        "\n",
        "    for id in total_id:\n",
        "      handle = Entrez.efetch(db='pmc', id = id , retmode = 'xml')\n",
        "      total_content =  handle.read()\n",
        "      #print(\"Entire text in the article id\",id)\n",
        "      #print(total_content) #print the total content\n",
        "      soup = BeautifulSoup(total_content,\"html.parser\")\n",
        "      abstracts = soup.find('abstract')#find the tag named 'abstract'\n",
        "      body = soup.find('body')#find the tag named 'body'\n",
        "      \n",
        "      try:\n",
        "        body_text = body.get_text()\n",
        "        #print(body_text) # print the body text\n",
        "        sci_name_body= body_text.find(scientific_name_synonym )#gets the position or the starting index of the scientific name\n",
        "        synonym_body= body_text.find(term_synon)  # gets the position or the starting index of the synonym\n",
        "        abstract_text = abstracts.get_text()\n",
        "        #print(abstract_text) # print the abstract text\n",
        "        sci_name_abstract= abstract_text.find(scientific_name_synonym ) #gets the position or the starting index of the scientific name\n",
        "        synonym_abstract= abstract_text.find(term_synon) # gets the position or the starting index of the synonym\n",
        "\n",
        "        #Checking for synonym in the body of article\n",
        "        extract_body_synonym = body_text[synonym_body:synonym_body+ len_synonym] #the synonym is extracted from the body of the article using string slicing\n",
        "        #print(\"synonym\",extract_body_synonym)\n",
        "        if extract_body_synonym == term_synon : # verifying if the synonym in the body of the article matches with synonym of the plant\n",
        "          #print(\"Synonym is present in body of the article :\",id)\n",
        "          no_synon_1 +=1\n",
        "        else:\n",
        "      \n",
        "          print(\"Synonym is not present in body of the article :\",id)\n",
        "\n",
        "        #Checking for synonym in the abstract of the article\n",
        "        extract_abstract_synonym = abstract_text[synonym_abstract:synonym_abstract+ len_synonym] #the synonym is extracted from the abstract of the article using string slicing\n",
        "        #print(\"synonym\",extract_abstract_synonym)\n",
        "        if extract_abstract_synonym == term_synon :  # verifying if the synonym in the body of the article matches with synonym of the plant\n",
        "          #print(\"Synonym is present in abstract of the article :\",id)\n",
        "          no_synon_2 +=1\n",
        "        else:\n",
        "      \n",
        "          print(\"Synonym is not present in  abstract of the article :\",id)   \n",
        "\n",
        "        #Checking for scientific name in the body of article\n",
        "        extract_body_sci_synonym = body_text[sci_name_body:sci_name_body+ len_sci_synonym] #the scientific name is extracted from the body of the article using string slicing\n",
        "        #print(\"scientific name\",extract_body_sci_synonym)\n",
        "        if extract_body_sci_synonym == scientific_name_synonym : # verifying if the scientific name in the body of the article matches with actual scientific name of the plant\n",
        "          #print(\"Scientific name is present in body of the article :\",id)\n",
        "          no_sci_1 +=1\n",
        "        else:\n",
        "      \n",
        "          print(\"Scientific name is not present in body of the article :\",id)\n",
        "\n",
        "        #Checking for scientific name in the abstract of the article\n",
        "        extract_abstract_sci_synonym = abstract_text[sci_name_abstract:sci_name_abstract+ len_sci_synonym] #the scientific name is extracted from the abstract of the article using string slicing\n",
        "        #print(\"scientific name\",extract_abstract_sci_synonym)\n",
        "        if extract_abstract_sci_synonym == scientific_name_synonym : # verifying if the scientific name in the abstract of the article matches with actual scientific name of the plant\n",
        "          #print(\"Scientific name is present in abstract of the article :\",id)\n",
        "          no_sci_2 +=1\n",
        "        else:\n",
        "      \n",
        "          print(\"Scientific name is not present in  abstract of the article :\",id)\n",
        "        Tot_extrac +=1  \n",
        "      \n",
        "      except AttributeError:\n",
        "        no_body +=1\n",
        "        continue\n",
        "    \n",
        "    df_ex_synon = pd.DataFrame({'synonym_name':[term_synon],'Scientific_name':[scientific_name_synonym],'synonym_body': [no_synon_1],'synonym_abstract':[no_synon_2],'sci_body':[no_sci_1],'sci_abstract':[no_sci_2],\"Tot_No_PubMed_article\": [Total_article],\"Retrive_max_value\": [Ret_max_val],\"No_article_No_body\": [no_body],\"Actual_article_retreived\":[Tot_extrac]})\n",
        "    #with pd.ExcelWriter(\"Synonym_result.xlsx\",mode=\"a\",engine=\"openpyxl\",if_sheet_exists=\"overlay\") as writer:\n",
        "    #df_ex_synon.to_excel(writer, sheet_name=\"Synonym_Output\",header=None, startrow=writer.sheets[\"Synonym_Output\"].max_row,index=True,index_label=\"No.\")\n",
        "    writer = pd.ExcelWriter('Synonym_result.xlsx', engine ='openpyxl')#,mode ='a',if_sheet_exists=\"overlay\"  #,if_sheet_exists=\"replace\"\n",
        "    writer.book = load_workbook('Synonym_result.xlsx')\n",
        "    writer.sheets = dict((ws.title,ws) for ws in writer.book.worksheets)\n",
        "    reader = pd.read_excel(r'Synonym_result.xlsx')\n",
        "    df_ex_synon.to_excel(writer,index= True,index_label=\"No.\",header = False,sheet_name=\"Synonym_Output\",startrow = len(reader)+1)\n",
        "    #df_ex_synon.to_excel(writer,index= True,index_label=\"No.\",sheet_name=\"Synonym_Output\",header = False,startrow=writer.sheets[\"Synonym_Output\"].max_row )\n",
        "    writer.save()\n",
        "    writer.close()        \n",
        "\n"
      ],
      "metadata": {
        "id": "18FHeOGp8Gll"
      },
      "execution_count": null,
      "outputs": []
    },
    {
      "cell_type": "markdown",
      "source": [
        "# Ignore entire code from this section onwards\n",
        "Contain trail versions of the code"
      ],
      "metadata": {
        "id": "yi800Kdp7ywE"
      }
    },
    {
      "cell_type": "markdown",
      "source": [
        "When tried to extract 50 articles per synonym from the dataset , the article id 8739336 didnt contain the tag body.Which was retrieved as 2nd article for one of the term.The article which threw the error:\n",
        "https://www.ncbi.nlm.nih.gov/pmc/articles/PMC8739336/\n",
        "\n",
        "This is due to the limitations in the code as it considers only articles having a body and abstract tag.\n",
        "\n",
        "Hence the single occurence synonym search is implemented for each of the following selected synonyms seperately to have a statistics of the number of articles having correct scientific name:\n",
        "Gardenia neuberia Eckl. & Zeyh., Vitis vinifera var. minuta Risso,Abelmoschus officinalis (DC.) Endl., Linnaea macrotera Graebn. & Buchw., Abelia myrtilloides Rehder, Abelia parvifolia Hemsl., Linnaea parvifolia (Hemsl.) Graebn., Abelia engleriana (Graebn.) Rehder, Abelia deutziifolia (H.Lév.) H.Lév., Linnaea chinensis (R.Br.) A.Braun & Vatke, Feuilleea jupunba (Willd.) Kuntze, Zornia setifera Mohlenbr."
      ],
      "metadata": {
        "id": "0XN3iofiTIhi"
      }
    },
    {
      "cell_type": "code",
      "source": [
        "term = 'Gardenia neuberia Eckl. & Zeyh.'   #The term need to be fetched for each individual term in the list : Gardenia neuberia Eckl. & Zeyh., Vitis vinifera var. minuta Risso,Abelmoschus officinalis (DC.) Endl., Linnaea macrotera Graebn. & Buchw., Abelia myrtilloides Rehder, Abelia parvifolia Hemsl., Linnaea parvifolia (Hemsl.) Graebn., Abelia engleriana (Graebn.) Rehder, Abelia deutziifolia (H.Lév.) H.Lév., Linnaea chinensis (R.Br.) A.Braun & Vatke, Feuilleea jupunba (Willd.) Kuntze, Zornia setifera Mohlenbr.\n",
        "print(term)\n",
        "handle = Entrez.esearch(db =\"pmc\", term= term,retmax= \"50\")# retrieve max is changed for article id for each synonym.If the search throws error, the corresponding id is not considered and the count of article till that run is taken to get the retmax value to be entered for successfull run of the code.\n",
        "rec_list = Entrez.read(handle)\n",
        "handle.close()\n",
        "print(rec_list['Count']) # displays the total number of articles Id containing the given synonymn name\n",
        "print(len(rec_list['IdList']))#List the total number of article retrieved. If total number of article  containing the synonym name are more than retmax parameter value given, it returns the given value in retmax.\n",
        "total_id = rec_list['IdList']\n",
        "print('The article ids corresponding to the given synonym name are :' ,total_id)# displays the articles Id corresponding to the given synonym"
      ],
      "metadata": {
        "id": "hKVGRCJj1xX2"
      },
      "execution_count": null,
      "outputs": []
    },
    {
      "cell_type": "code",
      "source": [
        "scientific_name_synonym=(art1_synon.loc[art1_synon['full_scientific_name_synonym']== term,'full_scientific_name']).iloc[0] #full scientific name corresponding to synonym is selected\n",
        "scientific_name_synonym = scientific_name_synonym.strip('. ')# strip all '.' from the beginning and end of string\n",
        "len_sci_synonym= len(scientific_name_synonym ) #calculating the length of the scientific name for the given synonym\n",
        "len_synonym = len(term)#calculating the length of the synonym"
      ],
      "metadata": {
        "id": "ockSLFAQD3sc"
      },
      "execution_count": null,
      "outputs": []
    },
    {
      "cell_type": "code",
      "source": [
        "print(scientific_name_synonym)"
      ],
      "metadata": {
        "id": "RGXYnMQyD7Ar"
      },
      "execution_count": null,
      "outputs": []
    },
    {
      "cell_type": "code",
      "source": [
        "#extracting and checking for each article id corresponding to the given term if synonym is mentioned or not\n",
        "for id in total_id:\n",
        "    handle = Entrez.efetch(db='pmc', id = id , retmode = 'xml')\n",
        "    total_content =  handle.read()\n",
        "    print(\"Entire text in the article id\",id)\n",
        "    #print(total_content) #print the total content\n",
        "    soup = BeautifulSoup(total_content,\"html.parser\")\n",
        "    abstracts = soup.find('abstract')#find the tag named 'abstract'\n",
        "    body = soup.find('body')#find the tag named 'body'\n",
        "    body_text = body.get_text()\n",
        "    #print(body_text) # print the body text\n",
        "    sci_name_body= body_text.find(scientific_name_synonym )#gets the position or the starting index of the scientific name\n",
        "    synonym_body= body_text.find(term )  # gets the position or the starting index of the synonym\n",
        "    abstract_text = abstracts.get_text()\n",
        "    #print(abstract_text) # print the abstract text\n",
        "    sci_name_abstract= abstract_text.find(scientific_name_synonym ) #gets the position or the starting index of the scientific name\n",
        "    synonym_abstract= abstract_text.find(term ) # gets the position or the starting index of the synonym\n",
        "\n",
        "#Checking for synonym in the body of article\n",
        "    extract_body_synonym = body_text[synonym_body:synonym_body+ len_synonym] #the synonym is extracted from the body of the article using string slicing\n",
        "    print(\"synonym\",extract_body_synonym)\n",
        "    if extract_body_synonym == term : # verifying if the synonym in the body of the article matches with synonym of the plant\n",
        "      print(\"Synonym is present in body of the article :\",id)\n",
        "    else:\n",
        "      \n",
        "      print(\"Synonym is not present in body of the article :\",id)\n",
        "\n",
        "#Checking for synonym in the abstract of the article\n",
        "    extract_abstract_synonym = abstract_text[synonym_abstract:synonym_abstract+ len_synonym] #the synonym is extracted from the abstract of the article using string slicing\n",
        "    print(\"synonym\",extract_abstract_synonym)\n",
        "    if extract_abstract_synonym == term :  # verifying if the synonym in the body of the article matches with synonym of the plant\n",
        "      print(\"Synonym is present in abstract of the article :\",id)\n",
        "    else:\n",
        "      \n",
        "      print(\"Synonym is not present in  abstract of the article :\",id)   \n",
        "\n",
        "#Checking for scientific name in the body of article\n",
        "    extract_body_sci_synonym = body_text[sci_name_body:sci_name_body+ len_sci_synonym] #the scientific name is extracted from the body of the article using string slicing\n",
        "    print(\"scientific name\",extract_body_sci_synonym)\n",
        "    if extract_body_sci_synonym == scientific_name_synonym : # verifying if the scientific name in the body of the article matches with actual scientific name of the plant\n",
        "      print(\"Scientific name is present in body of the article :\",id)\n",
        "    else:\n",
        "      \n",
        "      print(\"Scientific name is not present in body of the article :\",id)\n",
        "\n",
        "#Checking for scientific name in the abstract of the article\n",
        "    extract_abstract_sci_synonym = abstract_text[sci_name_abstract:sci_name_abstract+ len_sci_synonym] #the scientific name is extracted from the abstract of the article using string slicing\n",
        "    print(\"scientific name\",extract_abstract_sci_synonym)\n",
        "    if extract_abstract_sci_synonym == scientific_name_synonym : # verifying if the scientific name in the abstract of the article matches with actual scientific name of the plant\n",
        "      print(\"Scientific name is present in abstract of the article :\",id)\n",
        "    else:\n",
        "      \n",
        "      print(\"Scientific name is not present in  abstract of the article :\",id)          \n"
      ],
      "metadata": {
        "id": "C7FLmZCVEDuC"
      },
      "execution_count": null,
      "outputs": []
    },
    {
      "cell_type": "code",
      "source": [
        "\"\"\" \n",
        "#code for checking through all term and retreive the corresponding article id\n",
        "synon_name = art1_synon['full_scientific_name_synonym']\n",
        "\n",
        "for j in synon_name:\n",
        "    \n",
        "    term_synon = f\"{j}[name]\"\n",
        "    print(term_synon)\n",
        "    handle = Entrez.esearch(db =\"pmc\", term= term_synon,retmax= \"50\")# search and retrieve max 50 article id for each pharmaceutical name\n",
        "    rec_list = Entrez.read(handle)\n",
        "    handle.close()\n",
        "    print(rec_list['Count'])\n",
        "    print(len(rec_list['IdList']))\n",
        "    print(rec_list['IdList'])\n",
        "    total_id = rec_list['IdList']\n",
        "\"\"\""
      ],
      "metadata": {
        "id": "wDG77LCM6aAA"
      },
      "execution_count": null,
      "outputs": []
    },
    {
      "cell_type": "code",
      "source": [
        "\"\"\"\n",
        "#Code to retreive if search criteria has two or more parameters like genus and species.\n",
        "synon_gen= art1_synon['genus_y'].tolist() #convert the genus column to list\n",
        "synon_spe= art1_synon['species_y'].tolist() #convert the species column to list\n",
        "for (i,j) in zip(synon_gen,synon_spe):\n",
        "    \n",
        "    term = f\"{i}[genus] AND {j}[species]\"\n",
        "    print(term)\n",
        "    handle = Entrez.esearch(db =\"pmc\", term= term,retmax= \"50\")\n",
        "    rec_list = Entrez.read(handle)\n",
        "    handle.close()\n",
        "    print(rec_list['Count'])\n",
        "    print(len(rec_list['IdList']))\n",
        "    print(rec_list['IdList'])\n",
        "    total_id = rec_list['IdList']\n",
        "\n",
        "\"\"\""
      ],
      "metadata": {
        "id": "AqHQPGHP6pyh"
      },
      "execution_count": null,
      "outputs": []
    },
    {
      "cell_type": "markdown",
      "source": [
        "**Reference:**\n",
        "Entrez is a molecular biology database system that provides integrated access to nucleotide and protein sequence.The system is produced by the National Center for Biotechnology Information (NCBI).\n",
        "\n",
        "Entrez Programming Utilities user guide is available at : https://www.ncbi.nlm.nih.gov/books/NBK25501/"
      ],
      "metadata": {
        "id": "G5yZ-Xnyqg53"
      }
    }
  ]
}