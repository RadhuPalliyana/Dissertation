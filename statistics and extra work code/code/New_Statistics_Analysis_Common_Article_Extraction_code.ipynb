{
  "nbformat": 4,
  "nbformat_minor": 0,
  "metadata": {
    "colab": {
      "private_outputs": true,
      "provenance": [],
      "collapsed_sections": []
    },
    "kernelspec": {
      "name": "python3",
      "display_name": "Python 3"
    },
    "language_info": {
      "name": "python"
    }
  },
  "cells": [
    {
      "cell_type": "markdown",
      "source": [
        "# **Extracting articles ID from PubMed with a list of common name for statistical analysis**"
      ],
      "metadata": {
        "id": "f32FT1hZKMaa"
      }
    },
    {
      "cell_type": "markdown",
      "source": [
        "The code consists of the following Task\n",
        "\n",
        "\n",
        "Extracting the list of article Ids for articles that use common name without reference to the corresponding scientific name for a list of common names.The code for single occurence is reused for this purpose .It also used for statistical analysis on the number of relevant articles retreived from PubMed"
      ],
      "metadata": {
        "id": "3sm4zX8mSCrO"
      }
    },
    {
      "cell_type": "markdown",
      "source": [
        "Required Installations"
      ],
      "metadata": {
        "id": "OVPl9j-vXGTF"
      }
    },
    {
      "cell_type": "code",
      "source": [
        "!pip install biopython\n",
        "!pip install beautifulsoup4\n",
        "!pip install --upgrade openpyxl==3.0.5\n",
        "!pip install --upgrade pandas==1.1.2\n",
        "!pip install --upgrade python==3.7\n",
        "!pip install XlsxWriter"
      ],
      "metadata": {
        "id": "nW25bdjFW5GW"
      },
      "execution_count": null,
      "outputs": []
    },
    {
      "cell_type": "markdown",
      "source": [
        "\n",
        "import dependent libraries"
      ],
      "metadata": {
        "id": "u231u6bTKvQn"
      }
    },
    {
      "cell_type": "code",
      "execution_count": null,
      "metadata": {
        "id": "1GC78xnoKKOH"
      },
      "outputs": [],
      "source": [
        "import pandas as pd\n",
        "import re\n",
        "import Bio\n",
        "import requests\n",
        "from bs4 import BeautifulSoup\n",
        "from Bio import Entrez\n",
        "Entrez.email =  \"radhu.palliyana@gmail.com\" # provide mail id after creating api key\n",
        "from openpyxl import load_workbook\n",
        "import xlsxwriter"
      ]
    },
    {
      "cell_type": "code",
      "source": [
        "from google.colab import drive\n",
        "drive.mount('/content/drive') "
      ],
      "metadata": {
        "id": "OuzmFtKeeCZh"
      },
      "execution_count": null,
      "outputs": []
    },
    {
      "cell_type": "markdown",
      "source": [
        "Load MPNS version 11 datasets:\n",
        "\n",
        "\n",
        "1.   mpns_v11_non_sci_names_1.csv containing non scientific names or common or pharmaceutical names of medicinal plants\n",
        "2.   mpns_v11_plants_1.csv containing scientific names of medicinal plants\n",
        "3.   mpns_v11_synonyms_1.csv containing synonyms or old scientific names of medicinal plants"
      ],
      "metadata": {
        "id": "xa2NVjpOVUwT"
      }
    },
    {
      "cell_type": "code",
      "source": [
        "mpns_non_sci = pd.read_csv(\"/content/drive/MyDrive/Dissertation/mpns_v11_non_sci_names_1.csv\")\n",
        "mpns_plant = pd.read_csv(\"/content/drive/MyDrive/Dissertation/mpns_v11_plants_1.csv\")\n",
        "#mpns_synon = pd.read_csv(\"/content/drive/MyDrive/Dissertation/mpns_v11_synonyms_1.csv\")"
      ],
      "metadata": {
        "id": "g2Ig14ENVYiJ"
      },
      "execution_count": null,
      "outputs": []
    },
    {
      "cell_type": "markdown",
      "source": [
        "**Extracting all the article Ids for articles that use common name without reference to the corresponding scientfic name**"
      ],
      "metadata": {
        "id": "ntaUIjFPYOnG"
      }
    },
    {
      "cell_type": "markdown",
      "source": [
        "merging Table 1 ,mpns plant dataset and Table 3 , mpns non scientific dataset together with corresponding name id(from table 1) and plant_id(from table 3)\n",
        "\n",
        "As per MPNS Data dictionary name_id field value links each and every row in TABLE 3 Non Scientific Names to ONE data row in either TABLE 1 PLANTS OR TABLE 2 SYNONYMS\n"
      ],
      "metadata": {
        "id": "8yLdcrvbMy9p"
      }
    },
    {
      "cell_type": "markdown",
      "source": [
        "**Data Cleaning and feature engineering**"
      ],
      "metadata": {
        "id": "xouAAHhQ_Fm9"
      }
    },
    {
      "cell_type": "code",
      "source": [
        "mpns_non_sci.rename(columns ={'name_id':'name_id_non_sci'},inplace= True) # renaming the column name_id to name_id_non_sci for mpns non scientific(table 3) dataset"
      ],
      "metadata": {
        "id": "Cxd79vj67UwW"
      },
      "execution_count": null,
      "outputs": []
    },
    {
      "cell_type": "code",
      "source": [
        "art1 = pd.merge(mpns_plant,mpns_non_sci, how = \"left\" , left_on= \"name_id\",right_on=\"plant_id\") # merging of the tables 1 and 3\n",
        "#print(art1.head())\n",
        "# Checking for header values\n",
        "for col in art1.columns:\n",
        "    print(col)"
      ],
      "metadata": {
        "id": "PLR5dym6L0iG"
      },
      "execution_count": null,
      "outputs": []
    },
    {
      "cell_type": "code",
      "source": [
        "#checking for null values\n",
        "print(art1.shape[0] - art1.count())"
      ],
      "metadata": {
        "id": "7pwihMKCNI8h"
      },
      "execution_count": null,
      "outputs": []
    },
    {
      "cell_type": "code",
      "source": [
        "#dataframe created for plants names with non_scientific names used after merging with dataset containing scientific name(mpns_plant) and non scientific name(mpns_non_sci) of plants\n",
        "art1_non_sci = art1[~art1['name'].isnull()] # plants with non - scientific name null is removed\n",
        "art1_non_sci = art1_non_sci[~art1_non_sci['full_scientific_name'].isnull()] #plants with scientific name null is removed as TypeError: decoding to str: need a bytes-like object, float found is displayed due to null scientific names\n",
        "print(art1_non_sci.shape[0] - art1_non_sci.count()) # checking for null values"
      ],
      "metadata": {
        "id": "Rvna5d1zyKsQ"
      },
      "execution_count": null,
      "outputs": []
    },
    {
      "cell_type": "code",
      "source": [
        "# feature selection\n",
        "pd.options.mode.chained_assignment = None #ignoring the warning caused by dropping . value default 'warn'\n",
        "#dropping the following coumns as its not required for the mapping\n",
        "art1_non_sci.drop(['genus_hybrid','species_hybrid','infra_species','parent_author'],axis ='columns',inplace = True)\n",
        "#After confirming from Kew Garden team low quality matches are ignored\n",
        "art1_non_sci.drop(art1_non_sci.loc[art1_non_sci['quality_rating']=='L'].index, inplace = True)\n",
        "print(art1_non_sci.shape[0] - art1_non_sci.count())\n",
        "print(art1_non_sci.head())"
      ],
      "metadata": {
        "id": "wx4fHNJTyU5D"
      },
      "execution_count": null,
      "outputs": []
    },
    {
      "cell_type": "code",
      "source": [
        "#dataframe created for plants names with pharmaceutical names used after merging with scientific name\n",
        "art1_common = (art1_non_sci.loc[art1_non_sci['name_type']== 'common'])\n",
        "print(art1_common.head())"
      ],
      "metadata": {
        "id": "Iu-eGLe20KgT"
      },
      "execution_count": null,
      "outputs": []
    },
    {
      "cell_type": "code",
      "source": [
        "#checking for null values\n",
        "print(art1_common.shape[0] - art1_common.count())"
      ],
      "metadata": {
        "id": "2CES71pd4LUJ"
      },
      "execution_count": null,
      "outputs": []
    },
    {
      "cell_type": "markdown",
      "source": [
        "Checking for multiple occurence of common names"
      ],
      "metadata": {
        "id": "4mxlBO4L_Xf6"
      }
    },
    {
      "cell_type": "code",
      "source": [
        "art1_common_duplicate =art1_common[art1_common.duplicated('name')]\n",
        "print('Duplicated rows are ', art1_common_duplicate) # 36070 rows duplicated which means there are multiple occurence of the name"
      ],
      "metadata": {
        "id": "-tB54OxK_gNU"
      },
      "execution_count": null,
      "outputs": []
    },
    {
      "cell_type": "markdown",
      "source": [
        "Get first 10 rows of common name"
      ],
      "metadata": {
        "id": "C58LvfOUArmU"
      }
    },
    {
      "cell_type": "code",
      "source": [
        "art1_common_head = art1_common.head(100) # top 5 term taken"
      ],
      "metadata": {
        "id": "jQSPtJenAy3O"
      },
      "execution_count": null,
      "outputs": []
    },
    {
      "cell_type": "code",
      "source": [
        "#selecting range\n",
        "art1_common_head = art1_common.iloc[512:513] #rows taken from the dataset after 3rd value till 5(includes 5)"
      ],
      "metadata": {
        "id": "YIPfLleTlIN9"
      },
      "execution_count": null,
      "outputs": []
    },
    {
      "cell_type": "markdown",
      "source": [
        "Looking for articles having common names without reference to a scientific name"
      ],
      "metadata": {
        "id": "oC0E4gC0NSQo"
      }
    },
    {
      "cell_type": "code",
      "source": [
        "#phram_name = art1_pharm['name']\n",
        "#phram_name =   ['epilobii herba','epimedii wushanensis folium','equiseti hiemalis herba'] #  'epilobii herba','epimedii wushanensis folium', \n",
        "import time\n",
        "common_name = art1_common_head['name']\n",
        "#phram_name =   ['epilobii herba','epimedii wushanensis folium','equiseti hiemalis herba'] #use if providing single name or a small list of names\n",
        "\n",
        "for j in common_name:\n",
        "    \n",
        "    term_common = f\"{j}\"\n",
        "    print(term_common)\n",
        "    scientific_name_common =(art1_common.loc[art1_common['name']== term_common,'full_scientific_name']).iloc[0] #full scientific name corresponding to common name is selected\n",
        "    scientific_name_common = scientific_name_common.strip('. ')# strip all '.' from the beginning and end of string\n",
        "    len_sci_common= len(scientific_name_common ) #calculating the length of the scientific name for the given common name\n",
        "    len_term_common= len(term_common ) #calculating the length of the for the given common name\n",
        "    time.sleep(0.5)\n",
        "    handle = Entrez.esearch(db =\"pmc\", term= term_common,retmax= \"500\")# search and retrieve max 50 article id for each common name\n",
        "    rec_list = Entrez.read(handle)\n",
        "    handle.close()\n",
        "    #print(rec_list['Count'])\n",
        "    Total_article = (rec_list['Count'])\n",
        "    #print(len(rec_list['IdList']))\n",
        "    Ret_max_val = (len(rec_list['IdList']))\n",
        "    #print(rec_list['IdList'])\n",
        "    total_id = rec_list['IdList']\n",
        "    #print(\"scientific name of term \"+term_common+\" is :\",scientific_name_common )\n",
        "    \n",
        "    no_common_1 = 0 #count number of articles with common name in the body of the article\n",
        "    no_common_2 = 0 #count number of articles with common name in the abstract of the article\n",
        "    no_sci_1 = 0 #count number of articles with scientific name in the body of the article\n",
        "    no_sci_2 = 0 #count number of articles with scientific name in the abstract of the article\n",
        "    no_body = 0  #Count number of articles with no body\n",
        "    Tot_extrac =0 #Actual number of articles retreived      \n",
        "    \n",
        "    for id in total_id:\n",
        "      handle = Entrez.efetch(db='pmc', id = id , retmode = 'xml')\n",
        "      total_content =  handle.read()\n",
        "      #print(\"Entire text in the article id\",id)\n",
        "      soup = BeautifulSoup(total_content,\"html.parser\")\n",
        "      abstracts = soup.find('abstract')#find the tag named 'abstract'\n",
        "      body = soup.find('body')#find the tag named 'body'\n",
        "      \n",
        "      try:\n",
        "        body_text = body.get_text()\n",
        "        body_term_text_common_1 = (body.get_text()).lower()# entire text converted to lower case        \n",
        "        #print(body_text) #print entire body of the article\n",
        "        sci_name_body= body_text.find(scientific_name_common )#gets the position or the starting index of the word\n",
        "        abstract_text = abstracts.get_text()\n",
        "        #print(abstract_text) #print entire abstract of the article\n",
        "        sci_name_abstract= abstract_text.find(scientific_name_common )#gets the position or the starting index of the word\n",
        "      \n",
        "        term_name_body= body_term_text_common_1.find(term_common )#gets the position or the starting index of the word\n",
        "\n",
        "        abstract_term_text_common_1 = (abstracts.get_text()).lower()# entire text converted to lower case\n",
        "        term_name_abstract= abstract_term_text_common_1.find(term_common)#gets the position or the starting index of the word\n",
        "      \n",
        "        #Checking for common name in the body of article\n",
        "        extract_body_term_common = body_term_text_common_1[term_name_body:term_name_body+ len_term_common] #the common name is extracted from the body of the article using string slicing\n",
        "        #print(\"common name\",extract_body_term_common)\n",
        "      \n",
        "      \n",
        "        if extract_body_term_common == term_common : # verifying if the common name in the body of the article matches with actual scientific name of the plant\n",
        "          #print(\"common name is present in body of the article :\",id)\n",
        "          no_common_1 +=1\n",
        "        else:\n",
        "      \n",
        "          #print(\"common name is not present in body of the article :\",id)\n",
        "          pass\n",
        "\n",
        "        #Checking for common name in the abstract of article\n",
        "        extract_abstract_term_common = abstract_term_text_common_1[term_name_abstract:term_name_abstract+ len_term_common] #the common name is extracted from the body of the article using string slicing\n",
        "        #print(\"common name\",extract_abstract_term_common)\n",
        "      \n",
        "      \n",
        "        if extract_abstract_term_common == term_common : # verifying if the common name in the body of the article matches with actual scientific name of the plant\n",
        "          #print(\"common name is present in abstract of the article :\",id)\n",
        "          no_common_2 +=1\n",
        "        else:\n",
        "      \n",
        "          #print(\"common name is not present in abstract of the article :\",id)\n",
        "          pass     \n",
        "\n",
        "\n",
        "        #Checking for scientific name in the body of article\n",
        "        extract_body_sci_common = body_text[sci_name_body:sci_name_body+ len_sci_common] #the scientific name is extracted from the body of the article using string slicing\n",
        "        print(\"scientific name\",extract_body_sci_common)\n",
        "      \n",
        "        if extract_body_sci_common == scientific_name_common : # verifying if the scientific name in the body of the article matches with actual scientific name of the plant\n",
        "          #print(\"Scientific name is present in body of the article :\",id)\n",
        "          no_sci_1 +=1\n",
        "        else:\n",
        "      \n",
        "          #print(\"Scientific name is not present in body of the article :\",id)\n",
        "          pass\n",
        "\n",
        "        #Checking for scientific name in the abstract of the article\n",
        "        extract_abstract_sci_common = abstract_text[sci_name_abstract:sci_name_abstract+ len_sci_common] #the scientific name is extracted from the abstract of the article using string slicing\n",
        "        #print(\"scientific name\",extract_abstract_sci_common)\n",
        "      \n",
        "        if extract_abstract_sci_common == scientific_name_common : # verifying if the scientific name in the abstract of the article matches with actual scientific name of the plant\n",
        "          #print(\"Scientific name is present in abstract of the article :\",id)\n",
        "          no_sci_2 +=1\n",
        "        else:      \n",
        "          #print(\"Scientific name is not present in  abstract of the article :\",id)\n",
        "          pass  \n",
        "        \n",
        "        Tot_extrac +=1 \n",
        "\n",
        "\n",
        "      except AttributeError:\n",
        "        no_body +=1\n",
        "        continue\n",
        "    df_ex_common = pd.DataFrame({'common_name':[term_common],'Scientific_name':[scientific_name_common],'common_body': [no_common_1],'common_abstract':[no_common_2],'sci_body':[no_sci_1],'sci_abstract':[no_sci_2],\"Tot_No_PubMed_article\": [Total_article],\"Retrive_max_value\": [Ret_max_val],\"No_article_No_body\": [no_body],\"Actual_article_retreived\":[Tot_extrac]})\n",
        "    #with pd.ExcelWriter(\"Common_result.xlsx\",mode=\"a\",engine=\"openpyxl\",if_sheet_exists=\"overlay\") as writer:\n",
        "    #df_ex_common.to_excel(writer, sheet_name=\"Common_Output\",header=None, startrow=writer.sheets[\"Common_Output\"].max_row,index=True,index_label=\"No.\")\n",
        "    writer = pd.ExcelWriter('Common_result.xlsx', engine ='openpyxl')#,mode ='a',if_sheet_exists=\"overlay\"  #,if_sheet_exists=\"replace\"\n",
        "    writer.book = load_workbook('Common_result.xlsx')\n",
        "    writer.sheets = dict((ws.title,ws) for ws in writer.book.worksheets)\n",
        "    reader = pd.read_excel(r'Common_result.xlsx')\n",
        "    df_ex_common.to_excel(writer,index= True,index_label=\"No.\",header = False,sheet_name=\"Common_Output\",startrow = len(reader)+1)\n",
        "    #df_ex_common.to_excel(writer,index= True,index_label=\"No.\",sheet_name=\"Common_Output\",header = False,startrow=writer.sheets[\"Common_Output\"].max_row )\n",
        "    writer.save()\n",
        "    writer.close()\n",
        "        \n",
        "\n",
        "#print(\"No of times pharmaceutical name \"+term_common+ \" appeared in article is : \",no_common_1+no_common_2)  \n",
        "#print(\"No of times Scientific name \"+scientific_name_common+\" appeared \",no_sci_1+no_sci_2)\n",
        "#print(\"No of times articles without body \",no_body)"
      ],
      "metadata": {
        "id": "JAwdOpPHlhQE"
      },
      "execution_count": null,
      "outputs": []
    },
    {
      "cell_type": "markdown",
      "source": [
        "# Ignore entire code from this section onwards\n",
        "Contain trail versions of the code"
      ],
      "metadata": {
        "id": "GxP_Wdl4locD"
      }
    },
    {
      "cell_type": "markdown",
      "source": [
        "\n",
        "when tried to retreive maximum number of article for the top 100 common name its seen that the term in 8th position for common names with 3rd article id 9499808 in the list of ids retreived for that term throwed the attribute error as the body tag was not available.\n",
        "https://eutils.ncbi.nlm.nih.gov/entrez/eutils/efetch.fcgi?db=pmc&id=9499808\n",
        "\n",
        "This is due to the limitations in the code as it considers only articles having a body and abstract tag.\n",
        "\n",
        "Hence the single occurence common name search is implemented for each of the following selected common names seperately to have a statistics of the number of articles having correct scientific name:\n",
        "chhoti elachi, chichira, aanapa-kai, abbe, abete balsamifero, abong-abong, abrus, ginori, giant chickweed, giant cactus"
      ],
      "metadata": {
        "id": "yFzMK6gNYCF5"
      }
    },
    {
      "cell_type": "code",
      "source": [
        "# taking common name and checking for scientific names in the articles  chhoti elachi\n",
        "\n",
        "term = 'giant cactus'   #The term need to be fetched for each individual term in the list :  chhoti elachi, chichira, aanapa-kai, abbe, abete balsamifero, abong-abong, abrus, ginori, giant chickweed, giant cactus\n",
        "print(term)\n",
        "handle = Entrez.esearch(db =\"pmc\", term= term,retmax= \"9\")# retrieve max is changed for article id for each common name.If the search throws error, the corresponding id is not considered and the count of article till that run is taken to get the retmax value to be entered for successfull run of the code.\n",
        "rec_list = Entrez.read(handle)\n",
        "handle.close()\n",
        "print(rec_list['Count']) # displays the total number of articles Id containing the given common name\n",
        "print(len(rec_list['IdList'])) #List the total number of article retrieved. If total number of article containing the common name are more than retmax parameter value given, it returns the given value in retmax.\n",
        "total_id = rec_list['IdList']\n",
        "print('The article ids corresponding to the given common name are :' ,total_id)# displays the articles Id corresponding to the given common name"
      ],
      "metadata": {
        "id": "3RSTcg6DnJIv"
      },
      "execution_count": null,
      "outputs": []
    },
    {
      "cell_type": "code",
      "source": [
        "scientific_name_common =(art1_common.loc[art1_common['name']== term,'full_scientific_name']).iloc[0] #full scientific name corresponding to common name is selected\n",
        "scientific_name_common = scientific_name_common.strip('. ')# strip all '.' from the beginning and end of string\n",
        "len_sci_common= len(scientific_name_common ) #calculating the length of the scientific name for the given common name\n",
        "len_term_common= len(term ) #calculating the length of the scientific name for the given common name"
      ],
      "metadata": {
        "id": "HLMgaPjCnh-W"
      },
      "execution_count": null,
      "outputs": []
    },
    {
      "cell_type": "code",
      "source": [
        "print(scientific_name_common)#print scientific name\n",
        "print(len_sci_common) # print length of the scientific name"
      ],
      "metadata": {
        "id": "Yg0xLY_xnlCj"
      },
      "execution_count": null,
      "outputs": []
    },
    {
      "cell_type": "code",
      "source": [
        "#extracting and checking for each article id corresponding to the given term if the correct scientific name is provided or not\n",
        "for id in total_id:\n",
        "    handle = Entrez.efetch(db='pmc', id = id , retmode = 'xml')\n",
        "    total_content =  handle.read()\n",
        "    print(\"Entire text in the article id\",id)\n",
        "    #print(total_content) # print the entire html output\n",
        "\n",
        "    soup = BeautifulSoup(total_content,\"html.parser\")\n",
        "    abstracts = soup.find('abstract')#find the tag named 'abstract'\n",
        "    body = soup.find('body')#find the tag named 'body'\n",
        "\n",
        "    body_text = body.get_text() # get text out the body tag\n",
        "    #print(body_text) #print the entire body of the article\n",
        "    sci_name_body= body_text.find(scientific_name_common ) #gets the position or the starting index of the word\n",
        "\n",
        "    abstract_text = abstracts.get_text() # get text out of the abstract tag\n",
        "    #print(abstract_text) #print the entire body of the article\n",
        "    sci_name_abstract= abstract_text.find(scientific_name_common )#gets the position or the starting index of the word\n",
        "\n",
        "    body_term_text_common_1 = (body.get_text()).lower()# entire text converted to lower case\n",
        "    term_name_body= body_term_text_common_1.find(term )#gets the position or the starting index of the word\n",
        "\n",
        "    abstract_term_text_common_1 = (abstracts.get_text()).lower()# entire text converted to lower case\n",
        "    term_name_abstract= abstract_term_text_common_1.find(term )#gets the position or the starting index of the word\n",
        "\n",
        "#Checking for common name in the body of article\n",
        "    extract_body_term_common = body_term_text_common_1[term_name_body:term_name_body+ len_term_common] #the common name is extracted from the body of the article using string slicing\n",
        "    print(\"common name\",extract_body_term_common)\n",
        "    if extract_body_term_common == term : # verifying if the common name in the body of the article matches with actual scientific name of the plant\n",
        "      print(\"common name is present in body of the article :\",id)\n",
        "    else:\n",
        "      \n",
        "      print(\"common name is not present in body of the article :\",id)     \n",
        "\n",
        "#Checking for common name in the abstract of article\n",
        "    extract_abstract_term_common = abstract_term_text_common_1[term_name_abstract:term_name_abstract+ len_term_common] #the common name is extracted from the body of the article using string slicing\n",
        "    print(\"common name\",extract_abstract_term_common)\n",
        "    if extract_abstract_term_common == term : # verifying if the common name in the body of the article matches with actual scientific name of the plant\n",
        "      print(\"common name is present in abstract of the article :\",id)\n",
        "    else:\n",
        "      \n",
        "      print(\"common name is not present in abstract of the article :\",id)     \n",
        "\n",
        "\n",
        "\n",
        "#Checking for scientific name in the body of article\n",
        "    extract_body_sci_common = body_text[sci_name_body:sci_name_body+ len_sci_common] #the scientific name is extracted from the body of the article using string slicing\n",
        "    print(\"scientific name\",extract_body_sci_common)\n",
        "    if extract_body_sci_common == scientific_name_common :# verifying if the scientific name in the body of the article matches with actual scientific name of the plant\n",
        "      print(\"Scientific name is present in body of the article :\",id)\n",
        "    else:\n",
        "      print(\"Scientific name is not present in body of the article :\",id)\n",
        "\n",
        "#Checking for scientific name in the abstract of the article\n",
        "    extract_abstract_sci_common = abstract_text[sci_name_abstract:sci_name_abstract+ len_sci_common]#the scientific name is extracted from the abstract of the article using string slicing\n",
        "    print(\"scientific name\",extract_abstract_sci_common)\n",
        "    if extract_abstract_sci_common == scientific_name_common : # verifying if the scientific name in the abstract of the article matches with actual scientific name of the plant\n",
        "      print(\"Scientific name is present in abstract of the article :\",id)\n",
        "    else:\n",
        "      print(\"Scientific name is not present in  abstract of the article :\",id) \n"
      ],
      "metadata": {
        "id": "Q7w2XW1Nn08q"
      },
      "execution_count": null,
      "outputs": []
    },
    {
      "cell_type": "code",
      "source": [
        "\"\"\" \n",
        "#code for checking through all pharmaceutical name and retreive the corresponding article id\n",
        "common_name = art1_common['name']\n",
        "term_common = ' '# input the common name of medicinal plant\n",
        "\n",
        "for j in common_name:\n",
        "    \n",
        "    term_common = f\"{j}[name]\"\n",
        "    print(term_common)\n",
        "    handle = Entrez.esearch(db =\"pmc\", term= term_common,retmax= \"50\")# search and retrieve max 50 article id for each pharmaceutical name\n",
        "    rec_list = Entrez.read(handle)\n",
        "    handle.close()\n",
        "    print(rec_list['Count'])\n",
        "    print(len(rec_list['IdList']))\n",
        "    print(rec_list['IdList'])\n",
        "    total_id = rec_list['IdList']\n",
        "\"\"\""
      ],
      "metadata": {
        "id": "wDG77LCM6aAA"
      },
      "execution_count": null,
      "outputs": []
    },
    {
      "cell_type": "code",
      "source": [
        "\"\"\"\n",
        "#Code to retreive if search criteria has two or more parameters like genus and species.\n",
        "common_gen= art1_common['genus'].tolist() #convert the genus column to list\n",
        "common_spe= art1_common['species'].tolist() #convert the species column to list\n",
        "term = ' '# input the common name of medicinal plant\n",
        "\n",
        "for (i,j) in zip(common_gen,common_spe):\n",
        "    \n",
        "    term = f\"{i}[genus] AND {j}[species]\"\n",
        "    print(term)\n",
        "    handle = Entrez.esearch(db =\"pmc\", term= term,retmax= \"50\")\n",
        "    rec_list = Entrez.read(handle)\n",
        "    handle.close()\n",
        "    print(rec_list['Count'])\n",
        "    print(len(rec_list['IdList']))\n",
        "    print(rec_list['IdList'])\n",
        "    total_id = rec_list['IdList']\n",
        "\n",
        "\"\"\""
      ],
      "metadata": {
        "id": "AqHQPGHP6pyh"
      },
      "execution_count": null,
      "outputs": []
    },
    {
      "cell_type": "markdown",
      "source": [
        "**Reference:**\n",
        "Entrez is a molecular biology database system that provides integrated access to nucleotide and protein sequence.The system is produced by the National Center for Biotechnology Information (NCBI).\n",
        "\n",
        "Entrez Programming Utilities user guide is available at : https://www.ncbi.nlm.nih.gov/books/NBK25501/"
      ],
      "metadata": {
        "id": "BmeFLCP9qWkC"
      }
    }
  ]
}