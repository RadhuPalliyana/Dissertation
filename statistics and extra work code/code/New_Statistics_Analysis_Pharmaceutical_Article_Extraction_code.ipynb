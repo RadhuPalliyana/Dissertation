{
  "nbformat": 4,
  "nbformat_minor": 0,
  "metadata": {
    "colab": {
      "private_outputs": true,
      "provenance": [],
      "collapsed_sections": []
    },
    "kernelspec": {
      "name": "python3",
      "display_name": "Python 3"
    },
    "language_info": {
      "name": "python"
    }
  },
  "cells": [
    {
      "cell_type": "markdown",
      "source": [
        "# **Extracting articles ID from PubMed with a list of pharmaceutical name for statistical analysis**"
      ],
      "metadata": {
        "id": "f32FT1hZKMaa"
      }
    },
    {
      "cell_type": "markdown",
      "source": [
        "The code consists of the following Task\n",
        "\n",
        "Extracting all the list of article Ids for articles that use pharmaceutical name without reference to the corresponding scientfic name for a list of pharmaceutical names"
      ],
      "metadata": {
        "id": "3sm4zX8mSCrO"
      }
    },
    {
      "cell_type": "markdown",
      "source": [
        "Required Installations"
      ],
      "metadata": {
        "id": "OVPl9j-vXGTF"
      }
    },
    {
      "cell_type": "code",
      "source": [
        "!pip install biopython\n",
        "!pip install beautifulsoup4\n",
        "!pip install --upgrade openpyxl==3.0.5\n",
        "!pip install --upgrade pandas==1.1.2\n",
        "!pip install --upgrade python==3.7\n",
        "!pip install XlsxWriter"
      ],
      "metadata": {
        "id": "nW25bdjFW5GW"
      },
      "execution_count": null,
      "outputs": []
    },
    {
      "cell_type": "code",
      "source": [
        "#python: 3.7 |openpyxl: 3.0.5 | pandas: 1.1.2 |xlrd 1.2.0\n",
        "#pip install --upgrade pandas==0.19.2"
      ],
      "metadata": {
        "id": "EPzR7_YQs_py"
      },
      "execution_count": null,
      "outputs": []
    },
    {
      "cell_type": "markdown",
      "source": [
        "\n",
        "import dependent libraries"
      ],
      "metadata": {
        "id": "u231u6bTKvQn"
      }
    },
    {
      "cell_type": "code",
      "execution_count": null,
      "metadata": {
        "id": "1GC78xnoKKOH"
      },
      "outputs": [],
      "source": [
        "import pandas as pd\n",
        "import re\n",
        "import Bio\n",
        "import requests\n",
        "from bs4 import BeautifulSoup\n",
        "from Bio import Entrez\n",
        "Entrez.email =  \"radhu.palliyana@gmail.com\" # provide mail id after creating api key\n",
        "from openpyxl import load_workbook\n",
        "import xlsxwriter"
      ]
    },
    {
      "cell_type": "code",
      "source": [
        "from google.colab import drive\n",
        "drive.mount('/content/drive') "
      ],
      "metadata": {
        "id": "OuzmFtKeeCZh"
      },
      "execution_count": null,
      "outputs": []
    },
    {
      "cell_type": "markdown",
      "source": [
        "Load MPNS version 11 datasets:\n",
        "\n",
        "\n",
        "1.   mpns_v11_non_sci_names_1.csv containing non scientific names or common or pharmaceutical names of medicinal plants\n",
        "2.   mpns_v11_plants_1.csv containing scientific names of medicinal plants\n",
        "3.   mpns_v11_synonyms_1.csv containing synonyms or old scientific names of medicinal plants"
      ],
      "metadata": {
        "id": "xa2NVjpOVUwT"
      }
    },
    {
      "cell_type": "code",
      "source": [
        "mpns_non_sci = pd.read_csv(\"/content/drive/MyDrive/Dissertation/mpns_v11_non_sci_names_1.csv\")\n",
        "mpns_plant = pd.read_csv(\"/content/drive/MyDrive/Dissertation/mpns_v11_plants_1.csv\")\n",
        "#mpns_synon = pd.read_csv(\"/content/drive/MyDrive/Dissertation/mpns_v11_synonyms_1.csv\")"
      ],
      "metadata": {
        "id": "g2Ig14ENVYiJ"
      },
      "execution_count": null,
      "outputs": []
    },
    {
      "cell_type": "markdown",
      "source": [
        "**Extracting all the article Ids for articles that use pharmaceutical name without reference to the corresponding scientfic name**"
      ],
      "metadata": {
        "id": "Y5iFY-9wYID8"
      }
    },
    {
      "cell_type": "markdown",
      "source": [
        "merging Table 1 ,mpns plant dataset and Table 3 , mpns non scientific dataset together with corresponding name id\n",
        "\n",
        "As per MPNS Data dictionary name_id field value links each and every row in TABLE 3 Non Scientific Names to ONE data row in either TABLE 1 PLANTS OR TABLE 2 SYNONYMS\n"
      ],
      "metadata": {
        "id": "8yLdcrvbMy9p"
      }
    },
    {
      "cell_type": "markdown",
      "source": [
        "**Data Cleaning and feature engineering**"
      ],
      "metadata": {
        "id": "K94-1lM2Q8wJ"
      }
    },
    {
      "cell_type": "code",
      "source": [
        "mpns_non_sci.rename(columns ={'name_id':'name_id_non_sci'},inplace= True)# renaming the column name_id to name_id_non_sci for mpns non scientific(table 3) dataset"
      ],
      "metadata": {
        "id": "Cxd79vj67UwW"
      },
      "execution_count": null,
      "outputs": []
    },
    {
      "cell_type": "code",
      "source": [
        "art1 = pd.merge(mpns_plant,mpns_non_sci, how = \"left\" , left_on= \"name_id\",right_on=\"plant_id\") # merging of the tables 1 and 3\n",
        "#print(art1.head())\n",
        "# Checking for header values\n",
        "for col in art1.columns:\n",
        "    print(col)"
      ],
      "metadata": {
        "id": "PLR5dym6L0iG"
      },
      "execution_count": null,
      "outputs": []
    },
    {
      "cell_type": "code",
      "source": [
        "#checking for null values\n",
        "print(art1.shape[0] - art1.count())"
      ],
      "metadata": {
        "id": "7pwihMKCNI8h"
      },
      "execution_count": null,
      "outputs": []
    },
    {
      "cell_type": "code",
      "source": [
        "#dataframe created for plants names with non_scientific names used after merging with dataset containing scientific name(mpns_plant) and non scientific name(mpns_non_sci) of plants\n",
        "art1_non_sci = art1[~art1['name'].isnull()] # plants with non - scientific name null is removed\n",
        "art1_non_sci = art1_non_sci[~art1_non_sci['full_scientific_name'].isnull()] #plants with scientific name null is removed as TypeError: decoding to str: need a bytes-like object, float found is displayed due to null scientific names\n",
        "print(art1_non_sci.shape[0] - art1_non_sci.count()) # checking for null values"
      ],
      "metadata": {
        "id": "Rvna5d1zyKsQ"
      },
      "execution_count": null,
      "outputs": []
    },
    {
      "cell_type": "code",
      "source": [
        "# feature selection\n",
        "pd.options.mode.chained_assignment = None #ignoring the warning caused by dropping . value default 'warn'\n",
        "#dropping the following coumns as its not required for the mapping\n",
        "art1_non_sci.drop(['genus_hybrid','species_hybrid','infra_species','parent_author'],axis ='columns',inplace = True)\n",
        "#After confirming from Kew Garden team low quality matches are ignored\n",
        "art1_non_sci.drop(art1_non_sci.loc[art1_non_sci['quality_rating']=='L'].index, inplace = True)\n",
        "print(art1_non_sci.shape[0] - art1_non_sci.count())\n",
        "print(art1_non_sci.head())"
      ],
      "metadata": {
        "id": "wx4fHNJTyU5D"
      },
      "execution_count": null,
      "outputs": []
    },
    {
      "cell_type": "code",
      "source": [
        "#dataframe created for plants names with pharmaceutical names used after merging with scientific name\n",
        "art1_pharm = (art1_non_sci.loc[art1_non_sci['name_type']== 'pharmaceutical'])\n",
        "print(art1_pharm.head())"
      ],
      "metadata": {
        "id": "Iu-eGLe20KgT"
      },
      "execution_count": null,
      "outputs": []
    },
    {
      "cell_type": "code",
      "source": [
        "#checking for null values\n",
        "print(art1_pharm.shape[0] - art1_pharm.count())"
      ],
      "metadata": {
        "id": "2CES71pd4LUJ"
      },
      "execution_count": null,
      "outputs": []
    },
    {
      "cell_type": "markdown",
      "source": [
        "Checking for multiple occurence of pharmaceutical name"
      ],
      "metadata": {
        "id": "_HyxdLi_KhRu"
      }
    },
    {
      "cell_type": "code",
      "source": [
        "art1_pharm_duplicate =art1_pharm[art1_pharm.duplicated('name')]\n",
        "print('Duplicated rows are ', art1_pharm_duplicate) # 920 rows duplicated which means there are multiple occurence of the name"
      ],
      "metadata": {
        "id": "Tfw4wIpVKsW9"
      },
      "execution_count": null,
      "outputs": []
    },
    {
      "cell_type": "markdown",
      "source": [
        "Checking for single occurence"
      ],
      "metadata": {
        "id": "rHJo25nOLI0Z"
      }
    },
    {
      "cell_type": "code",
      "source": [
        "art1_pharm_unique = art1_pharm.name.unique()\n"
      ],
      "metadata": {
        "id": "UT9qC_FHLERv"
      },
      "execution_count": null,
      "outputs": []
    },
    {
      "cell_type": "markdown",
      "source": [
        "When tried to extract first 100 rows it throwed AttributeError: 'NoneType' object has no attribute 'get_text' article id 9495358 in 14 th position which didnt retrieved the text from article.\n",
        "When tried to extract the last 100 rows it throwed the same attribut error for article id 9476632 in 2nd position. So the code stoped execution in 2nd article itself.\n",
        "Both these articles when checked in pubmed are available:\n",
        "https://www.ncbi.nlm.nih.gov/pmc/articles/PMC9495358/\n",
        "https://www.ncbi.nlm.nih.gov/pmc/articles/PMC9476632/\n",
        "However using the link to fetch XML for pubmed doesnt retrieve this articles:\n",
        "https://eutils.ncbi.nlm.nih.gov/entrez/eutils/efetch.fcgi?db=pmc&id=9495358\n",
        "https://eutils.ncbi.nlm.nih.gov/entrez/eutils/efetch.fcgi?db=pmc&id=9476632\n",
        "\n",
        "when tried to retreive maximum 1 article for the top 100 pharmaceutical name its seen that the term in 13th position with article id 9495358 throwed the attribute error.\n",
        "https://eutils.ncbi.nlm.nih.gov/entrez/eutils/efetch.fcgi?db=pmc&id=9495358\n",
        "\n",
        "Hence the top 10 pharmaceutical names acan be retrieved for the study when ret max is kept as 50.\n",
        "\n",
        "This is also due to the limitations in the code as it considers only articles having a body and abstract tag.\n",
        "Hence the single occurence of pharmaceutical name search is implemented for each of the following selected pharmaceutical names to have a statistics of the number of articles having correct scientific name:\n",
        "abelmoschi corolla, angelicae radix pulverata, ziziphi spinosae semen, hibisci radix, achillea millefolium, achyranthis bidentatae radix, aconiti radix cocta, actinidiae fructus, acori tatarinowii rhizoma, benzoe tonkinensis, boehmeriae radix"
      ],
      "metadata": {
        "id": "5SMS80Jx5qq3"
      }
    },
    {
      "cell_type": "code",
      "source": [
        "art1_pharm_head = art1_pharm.head(15) #top 10 terms taken from the dataset"
      ],
      "metadata": {
        "id": "r2LtncrDrU0U"
      },
      "execution_count": null,
      "outputs": []
    },
    {
      "cell_type": "code",
      "source": [
        "print(art1_pharm_head['name'])"
      ],
      "metadata": {
        "id": "Z4cU30cfvigY"
      },
      "execution_count": null,
      "outputs": []
    },
    {
      "cell_type": "code",
      "source": [
        "#selecting range\n",
        "art1_pharm_head = art1_pharm.iloc[506:507] #(last update 401.To run 401st position)rows taken from the dataset after 3rd value till 5(includes 5)"
      ],
      "metadata": {
        "id": "7o1BZcpOH3iU"
      },
      "execution_count": null,
      "outputs": []
    },
    {
      "cell_type": "code",
      "source": [
        "\n",
        "#phram_name = art1_pharm['name']\n",
        "#phram_name =   ['epilobii herba','epimedii wushanensis folium','equiseti hiemalis herba'] #  'epilobii herba','epimedii wushanensis folium', \n",
        "import time\n",
        "phram_name = art1_pharm_head['name']\n",
        "#phram_name =   ['abelmosichi corolla','epimedii wushanensis folium','equiseti hiemalis herba'] #use if providing single name or a small list of names\n",
        " \n",
        "for j in phram_name:\n",
        "    \n",
        "    term_pharm = f\"{j}\"\n",
        "    #print(term_pharm)\n",
        "    scientific_name_pharm =(art1_pharm.loc[art1_pharm['name']== term_pharm,'full_scientific_name']).iloc[0] #full scientific name corresponding to pharmaceutical name is selected\n",
        "    scientific_name_pharm = scientific_name_pharm.strip('. ')# strip all '.' from the beginning and end of string\n",
        "    len_sci_pharm= len(scientific_name_pharm ) #calculating the length of the scientific name for the given pharmaceutical name\n",
        "    len_term_pharm= len(term_pharm ) #calculating the length of the for the given pharmaceutical name\n",
        "    time.sleep(0.5)\n",
        "    handle = Entrez.esearch(db =\"pmc\", term= term_pharm,retmax= \"500\")# search and retrieve max 50 article id for each pharmaceutical name\n",
        "    rec_list = Entrez.read(handle)\n",
        "    handle.close()\n",
        "    #print(rec_list['Count'])\n",
        "    Total_article = (rec_list['Count'])\n",
        "    #print(len(rec_list['IdList']))\n",
        "    Ret_max_val = (len(rec_list['IdList']))\n",
        "    #print(rec_list['IdList'])\n",
        "    total_id = rec_list['IdList']\n",
        "    #print(\"scientific name of term \"+term_pharm+\" is :\",scientific_name_pharm )\n",
        "    \n",
        "    no_pharm_1 = 0 #count number of articles with pharmaceutical name in the body of the article\n",
        "    no_pharm_2 = 0 #count number of articles with pharmaceutical name in the abstract of the article\n",
        "    no_sci_1 = 0 #count number of articles with scientific name in the body of the article\n",
        "    no_sci_2 = 0 #count number of articles with scientific name in the abstract of the article\n",
        "    no_body = 0  #Count number of articles with no body\n",
        "    Tot_extrac =0 #Actual number of articles retreived       \n",
        "    \n",
        "    for id in total_id:\n",
        "      time.sleep(0.5)\n",
        "      handle = Entrez.efetch(db='pmc', id = id , retmode = 'xml')\n",
        "      total_content =  handle.read()\n",
        "      #print(\"Entire text in the article id\",id)\n",
        "      soup = BeautifulSoup(total_content,\"html.parser\")\n",
        "      abstracts = soup.find('abstract')#find the tag named 'abstract'\n",
        "      body = soup.find('body')#find the tag named 'body'\n",
        "      \n",
        "      try:\n",
        "        body_text = body.get_text()\n",
        "        body_term_text_pharm_1 = (body.get_text()).lower()# entire text converted to lower case        \n",
        "        #print(body_text) #print entire body of the article\n",
        "        sci_name_body= body_text.find(scientific_name_pharm )#gets the position or the starting index of the word\n",
        "        abstract_text = abstracts.get_text()\n",
        "        #print(abstract_text) #print entire abstract of the article\n",
        "        sci_name_abstract= abstract_text.find(scientific_name_pharm )#gets the position or the starting index of the word\n",
        "      \n",
        "        term_name_body= body_term_text_pharm_1.find(term_pharm )#gets the position or the starting index of the word\n",
        "\n",
        "        abstract_term_text_pharm_1 = (abstracts.get_text()).lower()# entire text converted to lower case\n",
        "        term_name_abstract= abstract_term_text_pharm_1.find(term_pharm)#gets the position or the starting index of the word\n",
        "      \n",
        "        #Checking for pharmaceutical name in the body of article\n",
        "        extract_body_term_pharm = body_term_text_pharm_1[term_name_body:term_name_body+ len_term_pharm] #the pharmaceutical name is extracted from the body of the article using string slicing\n",
        "        print(\"pharmaceutical name\",extract_body_term_pharm)\n",
        "      \n",
        "      \n",
        "        if extract_body_term_pharm == term_pharm : # verifying if the pharmaceutical name in the body of the article matches with actual scientific name of the plant\n",
        "          #print(\"pharmaceutical name is present in body of the article :\",id)\n",
        "          no_pharm_1 +=1\n",
        "        else:\n",
        "      \n",
        "          print(\"pharmaceutical name is not present in body of the article :\",id)\n",
        "\n",
        "        #Checking for pharmaceutical name in the abstract of article\n",
        "        extract_abstract_term_pharm = abstract_term_text_pharm_1[term_name_abstract:term_name_abstract+ len_term_pharm] #the pharmaceutical name is extracted from the body of the article using string slicing\n",
        "        print(\"pharmaceutical name\",extract_abstract_term_pharm)\n",
        "      \n",
        "      \n",
        "        if extract_abstract_term_pharm == term_pharm : # verifying if the pharmaceutical name in the body of the article matches with actual scientific name of the plant\n",
        "          #print(\"pharmaceutical name is present in abstract of the article :\",id)\n",
        "          no_pharm_2 +=1\n",
        "        else:\n",
        "      \n",
        "          print(\"pharmaceutical name is not present in abstract of the article :\",id)     \n",
        "\n",
        "\n",
        "        #Checking for scientific name in the body of article\n",
        "        extract_body_sci_pharm = body_text[sci_name_body:sci_name_body+ len_sci_pharm] #the scientific name is extracted from the body of the article using string slicing\n",
        "        #print(\"scientific name\",extract_body_sci_pharm)\n",
        "      \n",
        "        if extract_body_sci_pharm == scientific_name_pharm : # verifying if the scientific name in the body of the article matches with actual scientific name of the plant\n",
        "          #print(\"Scientific name is present in body of the article :\",id)\n",
        "          no_sci_1 +=1\n",
        "        else:\n",
        "      \n",
        "          print(\"Scientific name is not present in body of the article :\",id)\n",
        "\n",
        "        #Checking for scientific name in the abstract of the article\n",
        "        extract_abstract_sci_pharm = abstract_text[sci_name_abstract:sci_name_abstract+ len_sci_pharm] #the scientific name is extracted from the abstract of the article using string slicing\n",
        "        #print(\"scientific name\",extract_abstract_sci_pharm)\n",
        "      \n",
        "        if extract_abstract_sci_pharm == scientific_name_pharm : # verifying if the scientific name in the abstract of the article matches with actual scientific name of the plant\n",
        "          #print(\"Scientific name is present in abstract of the article :\",id)\n",
        "          no_sci_2 +=1\n",
        "        else:      \n",
        "          print(\"Scientific name is not present in  abstract of the article :\",id)  \n",
        "        \n",
        "        Tot_extrac +=1\n",
        "\n",
        "      except AttributeError:\n",
        "        no_body +=1\n",
        "        continue\n",
        "    df_ex_pharm = pd.DataFrame({'Pharmaceutical_name':[term_pharm],'Scientific_name':[scientific_name_pharm],'pharm_body': [no_pharm_1],'pharm_abstract':[no_pharm_2],'sci_body':[no_sci_1],'sci_abstract':[no_sci_2],\"Tot_No_PubMed_article\": [Total_article],\"Retrive_max_value\": [Ret_max_val],\"No_article_No_body\": [no_body],\"Actual_article_retreived\":[Tot_extrac]})\n",
        "    #with pd.ExcelWriter(\"Pharm_result.xlsx\",mode=\"a\",engine=\"openpyxl\",if_sheet_exists=\"overlay\") as writer:\n",
        "    #df_ex_pharm.to_excel(writer, sheet_name=\"Pharm_Output\",header=None, startrow=writer.sheets[\"Pharm_Output\"].max_row,index=True,index_label=\"No.\")\n",
        "    writer = pd.ExcelWriter('Pharm_result.xlsx', engine ='openpyxl',mode ='a')#,if_sheet_exists=\"overlay\"  #,if_sheet_exists=\"replace\"\n",
        "    writer.book = load_workbook('Pharm_result.xlsx')\n",
        "    writer.sheets = dict((ws.title,ws) for ws in writer.book.worksheets)\n",
        "    reader = pd.read_excel(r'Pharm_result.xlsx')\n",
        "    df_ex_pharm.to_excel(writer,index= True,index_label=\"No.\",header = False,sheet_name=\"Pharm_Output\",startrow = len(reader)+1)\n",
        "    #df_ex_pharm.to_excel(writer,index= True,index_label=\"No.\",sheet_name=\"Pharm_Output\",header = False,startrow=writer.sheets[\"Pharm_Output\"].max_row )\n",
        "    writer.save()\n",
        "    writer.close()\n",
        "        \n",
        "\n",
        "#print(\"No of times pharmaceutical name \"+term_pharm+ \" appeared in article is : \",no_pharm_1+no_pharm_2)  \n",
        "#print(\"No of times Scientific name \"+scientific_name_pharm+\" appeared \",no_sci_1+no_sci_2)\n",
        "#print(\"No of times articles without body \",no_body)\n",
        "\n",
        "\"\"\"\n",
        "df_ex_pharm = pd.DataFrame({'Pharmaceutical_name':[term_pharm],'Scientific_name':[scientific_name_pharm],'pharm_body': [no_pharm_1],'pharm_abstract':[no_pharm_2],'sci_body':[no_sci_1],'sci_abstract':[no_sci_2],\"Tot_No_PubMed_article\": [Total_article],\"Retrive_max_article\": [Ret_max_val],\"No_article_No_body\": [no_body]})\n",
        "writer.book = load_workbook('Pharm_result.xlsx')\n",
        "writer.sheets = dict((ws.title,ws) for ws in writer.book.worksheets)\n",
        "df_ex_pharm.to_excel(writer,index= True,index_label=\"No.\",sheet_name=\"Pharm_Output\", )\n",
        "writer.save()\n",
        "writer.close()\n",
        "\"\"\"\n",
        "\"\"\"\n",
        "      if(no_pharm_1!=0):\n",
        "        writer.book = load_workbook('Pharm_result.xlsx')\n",
        "      df_ex_pharm.to_excel(writer,index= False,index_label=\"No.\",sheet_name=\"Pharm_Output\" )\n",
        "      #no_pharm_1 = no_pharm_1 + 1\n",
        "      writer.save()\n",
        "      if(no_pharm_2!=0):\n",
        "        writer.book = load_workbook('Pharm_result.xlsx')\n",
        "      df_ex_pharm.to_excel(writer,index= True,index_label=\"No.\",sheet_name=\"Pharm_Output\")      \n",
        "      #no_pharm_2 = no_pharm_2 + 1\n",
        "      writer.save()      \n",
        "      if(no_sci_1!=0):\n",
        "        writer.book = load_workbook('Pharm_result.xlsx')\n",
        "      df_ex_pharm.to_excel(writer,index= True,index_label=\"No.\",sheet_name=\"Pharm_Output\" )\n",
        "      #no_sci_1 = no_sci_1 + 1\n",
        "      writer.save()      \n",
        "      if(no_sci_2!=0):\n",
        "        writer.book = load_workbook('Pharm_result.xlsx')\n",
        "      df_ex_pharm.to_excel(writer,index= True,index_label=\"No.\",sheet_name=\"Pharm_Output\")\n",
        "      #no_sci_2 = no_sci_2 + 1\n",
        "      writer.save()\n",
        "      if(no_body!=0):\n",
        "        writer.book = load_workbook('Pharm_result.xlsx')\n",
        "      df_ex_pharm.to_excel(writer,index= True,index_label=\"No.\",sheet_name=\"Pharm_Output\" )\n",
        "      #no_body = no_body + 1\n",
        "      \n",
        "      writer.save()\n",
        "      writer.close()\n",
        "      \n",
        "\n",
        "\"\"\"\n",
        "\n",
        "\n",
        "\"\"\"\n",
        "    #print(df_ex_pharm)\n",
        "    #df_ex_pharm.to_excel('Pharm_result.xlsx',index= True,index_label=\"No.\",sheet_name=\"Pharm_Output\")\n",
        "    writer = pd.ExcelWriter('Pharm_result_2.xlsx', engine ='openpyxl') \n",
        "    writer.book = load_workbook('Pharm_result_2.xlsx') #try to open an existing workbook\n",
        "\n",
        "    writer.sheets = dict((ws.title,ws) for ws in writer.book.worksheets)\n",
        "    #read existing file\n",
        "    reader = pd.read_excel(r'Pharm_result_2.xlsx')\n",
        "    #write out the new sheet\n",
        "    df_ex_pharm.to_excel(writer,index= True,index_label=\"No.\",header = False,sheet_name=\"Pharm_Output\",startrow = len(reader)+1)\n",
        "\"\"\"\n",
        "\n",
        "\"\"\"\n",
        "    df_ex_pharm = pd.DataFrame({'Pharmaceutical_name':[term_pharm],'Scientific_name':[scientific_name_pharm],'pharm_body': [no_pharm_1],'pharm_abstract':[no_pharm_2],'sci_body':[no_sci_1],'sci_abstract':[no_sci_2],\"Tot_No_PubMed_article\": [Total_article],\"Retrive_max_article\": [Ret_max_val],\"No_article_No_body\": [no_body]})\n",
        "    writer = pd.ExcelWriter('Pharm_result_3.xlsx', engine ='xlsxwriter',mode ='A')\n",
        "    # Convert the dataframe to an XlsxWriter Excel object.\n",
        "    df_ex_pharm.to_excel(writer,index= True,index_label=\"No.\", sheet_name='Pharm_Output')    \n",
        "\n",
        "    # Close the Pandas Excel writer and output the Excel file.\n",
        "    writer.save()\n",
        " \n",
        "\"\"\"\n",
        "\"\"\"\n",
        "      df_ex_pharm = pd.DataFrame({'Pharmaceutical_name':[term_pharm],'Scientific_name':[scientific_name_pharm],'pharm_body': [no_pharm_1],'pharm_abstract':[no_pharm_2],'sci_body':[no_sci_1],'sci_abstract':[no_sci_2],\"Tot_No_PubMed_article\": [Total_article],\"Retrive_max_article\": [Ret_max_val],\"No_article_No_body\": [no_body]})\n",
        "    \n",
        "   \n",
        "      writer = pd.ExcelWriter('Pharm_result.xlsx', engine ='openpyxl')\n",
        "\n",
        "      \n",
        "      df_ex_pharm.to_excel('Pharm_result.xlsx',index= True,index_label=\"No.\",sheet_name=\"Pharm_Output\")\n",
        "      writer.book = load_workbook('Pharm_result.xlsx')\n",
        "      writer.sheets = dict((ws.title, ws) for ws in writer.book.worksheets)\n",
        "      # Convert the dataframe to an XlsxWriter Excel object.\n",
        "      #df_ex_pharm.to_excel(writer,index= True,index_label=\"No.\", sheet_name='Pharm_Output')   \n",
        "      reader = pd.read_excel(r'Pharm_result.xlsx') \n",
        "      df_ex_pharm.to_excel(writer,index= True,index_label=\"No.\",header = False,sheet_name=\"Pharm_Output\",startrow = len(reader)+1)\n",
        "\n",
        "      # Close the Pandas Excel writer and output the Excel file.\n",
        "      writer.save()\n",
        "      writer.close()\n",
        "\"\"\"\n"
      ],
      "metadata": {
        "id": "X7J6-_ZykNHP"
      },
      "execution_count": null,
      "outputs": []
    },
    {
      "cell_type": "markdown",
      "source": [
        "# Ignore entire code from this section onwards\n",
        "Contain trail versions of the code"
      ],
      "metadata": {
        "id": "SkYuFLJKKT-D"
      }
    },
    {
      "cell_type": "code",
      "source": [
        "#This is the first trial code for ignoring articles without body\n",
        "\n",
        "#phram_name = art1_pharm['name']\n",
        "phram_name =   ['echinaceae pallidae herba'] #'epilobii herba','epimedii wushanensis folium'\n",
        "\n",
        "for j in phram_name:\n",
        "    \n",
        "    term_pharm = f\"{j}\"\n",
        "    print(term_pharm)\n",
        "    scientific_name_pharm =(art1_pharm.loc[art1_pharm['name']== term_pharm,'full_scientific_name']).iloc[0] #full scientific name corresponding to pharmaceutical name is selected\n",
        "    scientific_name_pharm = scientific_name_pharm.strip('. ')# strip all '.' from the beginning and end of string\n",
        "    len_sci_pharm= len(scientific_name_pharm ) #calculating the length of the scientific name for the given pharmaceutical name\n",
        "    len_term_pharm= len(term_pharm ) #calculating the length of the for the given pharmaceutical name\n",
        "    handle = Entrez.esearch(db =\"pmc\", term= term_pharm,retmax= \"50\")# search and retrieve max 50 article id for each pharmaceutical name\n",
        "    rec_list = Entrez.read(handle)\n",
        "    handle.close()\n",
        "    print(rec_list['Count'])\n",
        "    Total_article = (rec_list['Count'])\n",
        "    print(len(rec_list['IdList']))\n",
        "    Ret_max_val = (len(rec_list['IdList']))\n",
        "    print(rec_list['IdList'])\n",
        "    total_id = rec_list['IdList']\n",
        "    print(\"scientific name of term \"+term_pharm+\" is :\",scientific_name_pharm )\n",
        "    \n",
        "    no_pharm_1 = 0\n",
        "    no_pharm_2 = 0\n",
        "    no_sci_1 = 0\n",
        "    no_sci_2 = 0\n",
        " \n",
        "    \n",
        "    writer = pd.ExcelWriter('Pharm_result.xlsx', engine ='openpyxl')\n",
        "    \n",
        "\n",
        "    for id in total_id:\n",
        "      handle = Entrez.efetch(db='pmc', id = id , retmode = 'xml')\n",
        "      total_content =  handle.read()\n",
        "      print(\"Entire text in the article id\",id)\n",
        "      soup = BeautifulSoup(total_content,\"html.parser\")\n",
        "      abstracts = soup.find('abstract')#find the tag named 'abstract'\n",
        "      body = soup.find('body')#find the tag named 'body'\n",
        "      no_body = 0\n",
        "      try:\n",
        "        body_text = body.get_text()\n",
        "        body_term_text_pharm_1 = (body.get_text()).lower()# entire text converted to lower case        \n",
        "        #print(body_text) #print entire body of the article\n",
        "      except AttributeError:\n",
        "        no_body +=1\n",
        "        pass\n",
        "        \n",
        "      sci_name_body= body_text.find(scientific_name_pharm )#gets the position or the starting index of the word\n",
        "      abstract_text = abstracts.get_text()\n",
        "      #print(abstract_text) #print entire abstract of the article\n",
        "      sci_name_abstract= abstract_text.find(scientific_name_pharm )#gets the position or the starting index of the word\n",
        "      \n",
        "      term_name_body= body_term_text_pharm_1.find(term_pharm )#gets the position or the starting index of the word\n",
        "\n",
        "      abstract_term_text_pharm_1 = (abstracts.get_text()).lower()# entire text converted to lower case\n",
        "      term_name_abstract= abstract_term_text_pharm_1.find(term_pharm)#gets the position or the starting index of the word\n",
        "      \n",
        "      #Checking for pharmaceutical name in the body of article\n",
        "      extract_body_term_pharm = body_term_text_pharm_1[term_name_body:term_name_body+ len_term_pharm] #the pharmaceutical name is extracted from the body of the article using string slicing\n",
        "      print(\"pharmaceutical name\",extract_body_term_pharm)\n",
        "      \n",
        "      \n",
        "      if extract_body_term_pharm == term_pharm : # verifying if the pharmaceutical name in the body of the article matches with actual scientific name of the plant\n",
        "        print(\"pharmaceutical name is present in body of the article :\",id)\n",
        "        no_pharm_1 +=1\n",
        "      else:\n",
        "      \n",
        "        print(\"pharmaceutical name is not present in body of the article :\",id)\n",
        "\n",
        "      #Checking for pharmaceutical name in the abstract of article\n",
        "      extract_abstract_term_pharm = abstract_term_text_pharm_1[term_name_abstract:term_name_abstract+ len_term_pharm] #the pharmaceutical name is extracted from the body of the article using string slicing\n",
        "      print(\"pharmaceutical name\",extract_abstract_term_pharm)\n",
        "      \n",
        "      \n",
        "      if extract_abstract_term_pharm == term_pharm : # verifying if the pharmaceutical name in the body of the article matches with actual scientific name of the plant\n",
        "        print(\"pharmaceutical name is present in abstract of the article :\",id)\n",
        "        no_pharm_2 +=1\n",
        "      else:\n",
        "      \n",
        "        print(\"pharmaceutical name is not present in abstract of the article :\",id)     \n",
        "\n",
        "\n",
        "      #Checking for scientific name in the body of article\n",
        "      extract_body_sci_pharm = body_text[sci_name_body:sci_name_body+ len_sci_pharm] #the scientific name is extracted from the body of the article using string slicing\n",
        "      print(\"scientific name\",extract_body_sci_pharm)\n",
        "      \n",
        "      if extract_body_sci_pharm == scientific_name_pharm : # verifying if the scientific name in the body of the article matches with actual scientific name of the plant\n",
        "        print(\"Scientific name is present in body of the article :\",id)\n",
        "        no_sci_1 +=1\n",
        "      else:\n",
        "      \n",
        "        print(\"Scientific name is not present in body of the article :\",id)\n",
        "\n",
        "      #Checking for scientific name in the abstract of the article\n",
        "      extract_abstract_sci_pharm = abstract_text[sci_name_abstract:sci_name_abstract+ len_sci_pharm] #the scientific name is extracted from the abstract of the article using string slicing\n",
        "      print(\"scientific name\",extract_abstract_sci_pharm)\n",
        "      \n",
        "      if extract_abstract_sci_pharm == scientific_name_pharm : # verifying if the scientific name in the abstract of the article matches with actual scientific name of the plant\n",
        "        print(\"Scientific name is present in abstract of the article :\",id)\n",
        "        no_sci_2 +=1\n",
        "      else:      \n",
        "        print(\"Scientific name is not present in  abstract of the article :\",id)  \n",
        "\n",
        "      print(\"No of times pharmaceutical name \"+term_pharm+ \" appeared in article is : \",no_pharm_1+no_pharm_2)  \n",
        "      print(\"No of times Scientific name \"+scientific_name_pharm+\" appeared \",no_sci_1+no_sci_2)\n",
        "      print(\"No of times articles without body \",no_body)\n",
        "\n",
        "      #change_excel = pd.DataFrame([no_pharm_1],[no_pharm_2],[no_sci_1],[no_sci_2]],columns=['pharm_body','pharm_abstract','sci_body','sci_abstract'])\n",
        "      #print(change_excel)\n",
        "\n",
        "      df_ex_pharm = pd.DataFrame({'Pharmaceutical_name':[term_pharm],'Scientific_name':[scientific_name_pharm],'pharm_body': [no_pharm_1],'pharm_abstract':[no_pharm_2],'sci_body':[no_sci_1],'sci_abstract':[no_sci_2],\"Tot_No_PubMed_article\": [Total_article],\"Retrive_max_article\": [Ret_max_val],\"No_article_No_body\": [no_body]})\n",
        "      writer.book = load_workbook('Pharm_result.xlsx')\n",
        "      writer.sheets = dict((ws.title,ws) for ws in writer.book.worksheets)\n",
        "      df_ex_pharm.to_excel(writer,index= True,index_label=\"No.\",sheet_name=\"Pharm_Output\" )\n",
        "      writer.save()\n",
        "      writer.close()\n",
        "\n",
        "\"\"\"\n",
        "      if(no_pharm_1!=0):\n",
        "        writer.book = load_workbook('Pharm_result.xlsx')\n",
        "      df_ex_pharm.to_excel(writer,index= False,index_label=\"No.\",sheet_name=\"Pharm_Output\" )\n",
        "      #no_pharm_1 = no_pharm_1 + 1\n",
        "      writer.save()\n",
        "      if(no_pharm_2!=0):\n",
        "        writer.book = load_workbook('Pharm_result.xlsx')\n",
        "      df_ex_pharm.to_excel(writer,index= True,index_label=\"No.\",sheet_name=\"Pharm_Output\")      \n",
        "      #no_pharm_2 = no_pharm_2 + 1\n",
        "      writer.save()      \n",
        "      if(no_sci_1!=0):\n",
        "        writer.book = load_workbook('Pharm_result.xlsx')\n",
        "      df_ex_pharm.to_excel(writer,index= True,index_label=\"No.\",sheet_name=\"Pharm_Output\" )\n",
        "      #no_sci_1 = no_sci_1 + 1\n",
        "      writer.save()      \n",
        "      if(no_sci_2!=0):\n",
        "        writer.book = load_workbook('Pharm_result.xlsx')\n",
        "      df_ex_pharm.to_excel(writer,index= True,index_label=\"No.\",sheet_name=\"Pharm_Output\")\n",
        "      #no_sci_2 = no_sci_2 + 1\n",
        "      writer.save()\n",
        "      if(no_body!=0):\n",
        "        writer.book = load_workbook('Pharm_result.xlsx')\n",
        "      df_ex_pharm.to_excel(writer,index= True,index_label=\"No.\",sheet_name=\"Pharm_Output\" )\n",
        "      #no_body = no_body + 1\n",
        "      \n",
        "      writer.save()\n",
        "      writer.close()\n",
        "      \n",
        "\n",
        "\"\"\"\n",
        "\n",
        "\n",
        "\"\"\"\n",
        "    #print(df_ex_pharm)\n",
        "    #df_ex_pharm.to_excel('Pharm_result.xlsx',index= True,index_label=\"No.\",sheet_name=\"Pharm_Output\")\n",
        "    writer = pd.ExcelWriter('Pharm_result_2.xlsx', engine ='openpyxl') \n",
        "    writer.book = load_workbook('Pharm_result_2.xlsx') #try to open an existing workbook\n",
        "\n",
        "    writer.sheets = dict((ws.title,ws) for ws in writer.book.worksheets)\n",
        "    #read existing file\n",
        "    reader = pd.read_excel(r'Pharm_result_2.xlsx')\n",
        "    #write out the new sheet\n",
        "    df_ex_pharm.to_excel(writer,index= True,index_label=\"No.\",header = False,sheet_name=\"Pharm_Output\",startrow = len(reader)+1)\n",
        "\"\"\"\n",
        "\n",
        "\"\"\"\n",
        "    df_ex_pharm = pd.DataFrame({'Pharmaceutical_name':[term_pharm],'Scientific_name':[scientific_name_pharm],'pharm_body': [no_pharm_1],'pharm_abstract':[no_pharm_2],'sci_body':[no_sci_1],'sci_abstract':[no_sci_2],\"Tot_No_PubMed_article\": [Total_article],\"Retrive_max_article\": [Ret_max_val],\"No_article_No_body\": [no_body]})\n",
        "    writer = pd.ExcelWriter('Pharm_result_3.xlsx', engine ='xlsxwriter',mode ='A')\n",
        "    # Convert the dataframe to an XlsxWriter Excel object.\n",
        "    df_ex_pharm.to_excel(writer,index= True,index_label=\"No.\", sheet_name='Pharm_Output')    \n",
        "\n",
        "    # Close the Pandas Excel writer and output the Excel file.\n",
        "    writer.save()\n",
        " \n",
        "\"\"\"\n",
        "\"\"\"\n",
        "      df_ex_pharm = pd.DataFrame({'Pharmaceutical_name':[term_pharm],'Scientific_name':[scientific_name_pharm],'pharm_body': [no_pharm_1],'pharm_abstract':[no_pharm_2],'sci_body':[no_sci_1],'sci_abstract':[no_sci_2],\"Tot_No_PubMed_article\": [Total_article],\"Retrive_max_article\": [Ret_max_val],\"No_article_No_body\": [no_body]})\n",
        "    \n",
        "   \n",
        "      writer = pd.ExcelWriter('Pharm_result.xlsx', engine ='openpyxl')\n",
        "\n",
        "      \n",
        "      df_ex_pharm.to_excel('Pharm_result.xlsx',index= True,index_label=\"No.\",sheet_name=\"Pharm_Output\")\n",
        "      writer.book = load_workbook('Pharm_result.xlsx')\n",
        "      writer.sheets = dict((ws.title, ws) for ws in writer.book.worksheets)\n",
        "      # Convert the dataframe to an XlsxWriter Excel object.\n",
        "      #df_ex_pharm.to_excel(writer,index= True,index_label=\"No.\", sheet_name='Pharm_Output')   \n",
        "      reader = pd.read_excel(r'Pharm_result.xlsx') \n",
        "      df_ex_pharm.to_excel(writer,index= True,index_label=\"No.\",header = False,sheet_name=\"Pharm_Output\",startrow = len(reader)+1)\n",
        "\n",
        "      # Close the Pandas Excel writer and output the Excel file.\n",
        "      writer.save()\n",
        "      writer.close()\n",
        "\"\"\"\n"
      ],
      "metadata": {
        "id": "W3kLl5rWRKt-"
      },
      "execution_count": null,
      "outputs": []
    },
    {
      "cell_type": "markdown",
      "source": [
        "⛔"
      ],
      "metadata": {
        "id": "RKlvCRmmQvcx"
      }
    },
    {
      "cell_type": "markdown",
      "source": [
        "Looking for articles having pharmaceutical names without reference to a scientific name"
      ],
      "metadata": {
        "id": "c0rJazO_myFU"
      }
    },
    {
      "cell_type": "code",
      "source": [
        "# taking pharmaceutical name and checking for scientific names in the articles    \n",
        "\n",
        "term = 'ephedra radix'   #The term need to be fetched for each individual term in the list :abelmoschi corolla, angelicae radix pulverata, ziziphi spinosae semen, hibisci radix, achillea millefolium, achyranthis bidentatae radix, aconiti radix cocta, actinidiae fructus, acori tatarinowii rhizoma, benzoe tonkinensis, boehmeriae radix\n",
        "print(term)\n",
        "handle = Entrez.esearch(db =\"pmc\", term= term,retmax= \"338\")# retrieve max is changed for article id for each pharmaceutical name.If the search throws error, the corresponding id is not considered and the count of article till that run is taken to get the retmax value to be entered for successfull run of the code.\n",
        "rec_list = Entrez.read(handle)\n",
        "handle.close()\n",
        "print(rec_list['Count'])# displays the total number of articles Id containing the given pharmaceutical name\n",
        "print(len(rec_list['IdList']))#List the total number of article retrieved. If total number of article  containing the pharmaceutical name are more than retmax parameter value given, it returns the given value in retmax.\n",
        "total_id = rec_list['IdList']\n",
        "print('The article ids corresponding to the given pharmaceutical name are :' ,total_id)# displays the articles Ids containing the given pharmaceutical name"
      ],
      "metadata": {
        "id": "WtEE6WLkYEf2"
      },
      "execution_count": null,
      "outputs": []
    },
    {
      "cell_type": "code",
      "source": [
        "scientific_name_pharm =(art1_pharm.loc[art1_pharm['name']== term,'full_scientific_name']).iloc[0] #full scientific name corresponding to pharmaceutical name is selected\n",
        "scientific_name_pharm = scientific_name_pharm.strip('. ')# strip all '.' from the beginning and end of string\n",
        "len_sci_pharm= len(scientific_name_pharm ) #calculating the length of the scientific name for the given pharmaceutical name\n",
        "len_term_pharm= len(term ) #calculating the length of the for the given pharmaceutical name"
      ],
      "metadata": {
        "id": "fBSRJoFQYWF2"
      },
      "execution_count": null,
      "outputs": []
    },
    {
      "cell_type": "code",
      "source": [
        "print(scientific_name_pharm)"
      ],
      "metadata": {
        "id": "ag-Nk5WoYajr"
      },
      "execution_count": null,
      "outputs": []
    },
    {
      "cell_type": "code",
      "source": [
        "#extracting and checking for each article id corresponding to the given term if the correct scientific name is provided or not\n",
        "#total_id =  ['9549772', '9492967', '9234258', '9206260', '9476726', '9404188', '9377893', '9376358', '9350179', '9135524', '8966664', '8901378', '9011225', '8861989', '8844433', '8759103', '8691044', '8485712', '8352711', '9009852', '8190277', '7964117', '7939017', '7801274', '7821280', '7735863', '7592451', '7556113', '9009856', '9009854', '7416080', '7391051', '7367001', '7331568', '7328533', '7319939', '7296303', '7273822', '7227203', '7159848', '7129866', '7104236', '7118592', '6521559', '6452558', '6304600', '6178163', '3776539', '3679842', '7126446']\n",
        "total_id =  ['8165967',  '2521810','402576']\n",
        "\n",
        "\n",
        "#\n",
        "\n",
        "\n",
        "for id in total_id:\n",
        "    handle = Entrez.efetch(db='pmc', id = id , retmode = 'xml')\n",
        "    total_content =  handle.read()\n",
        "    print(\"Entire text in the article id\",id)\n",
        "    #print(total_content) # print the entire content of the article in html\n",
        "    soup = BeautifulSoup(total_content,\"html.parser\")\n",
        "    abstracts = soup.find('abstract')#find the tag named 'abstract'\n",
        "    body = soup.find('body')#find the tag named 'body'\n",
        "    body_text = body.get_text()\n",
        "    #print(body_text) #print entire body of the article\n",
        "    sci_name_body= body_text.find(scientific_name_pharm )#gets the position or the starting index of the word\n",
        "    abstract_text = abstracts.get_text()\n",
        "    #print(abstract_text) #print entire abstract of the article\n",
        "    sci_name_abstract= abstract_text.find(scientific_name_pharm )#gets the position or the starting index of the word\n",
        "\n",
        "    body_term_text_pharm_1 = (body.get_text()).lower()# entire text converted to lower case\n",
        "    term_name_body= body_term_text_pharm_1.find(term )#gets the position or the starting index of the word\n",
        "\n",
        "    abstract_term_text_pharm_1 = (abstracts.get_text()).lower()# entire text converted to lower case\n",
        "    term_name_abstract= abstract_term_text_pharm_1.find(term )#gets the position or the starting index of the word\n",
        "\n",
        "#Checking for pharmaceutical name in the body of article\n",
        "    extract_body_term_pharm = body_term_text_pharm_1[term_name_body:term_name_body+ len_term_pharm] #the pharmaceutical name is extracted from the body of the article using string slicing\n",
        "    print(\"pharmaceutical name\",extract_body_term_pharm)\n",
        "    if extract_body_term_pharm == term : # verifying if the pharmaceutical name in the body of the article matches with actual scientific name of the plant\n",
        "      print(\"pharmaceutical name is present in body of the article :\",id)\n",
        "    else:\n",
        "      \n",
        "      print(\"pharmaceutical name is not present in body of the article :\",id)     \n",
        "\n",
        "#Checking for pharmaceutical name in the abstract of article\n",
        "    extract_abstract_term_pharm = abstract_term_text_pharm_1[term_name_abstract:term_name_abstract+ len_term_pharm] #the pharmaceutical name is extracted from the body of the article using string slicing\n",
        "    print(\"pharmaceutical name\",extract_abstract_term_pharm)\n",
        "    if extract_abstract_term_pharm == term : # verifying if the pharmaceutical name in the body of the article matches with actual scientific name of the plant\n",
        "      print(\"pharmaceutical name is present in abstract of the article :\",id)\n",
        "    else:\n",
        "      \n",
        "      print(\"pharmaceutical name is not present in abstract of the article :\",id)     \n",
        "\n",
        "\n",
        "#Checking for scientific name in the body of article\n",
        "    extract_body_sci_pharm = body_text[sci_name_body:sci_name_body+ len_sci_pharm] #the scientific name is extracted from the body of the article using string slicing\n",
        "    print(\"scientific name\",extract_body_sci_pharm)\n",
        "    if extract_body_sci_pharm == scientific_name_pharm : # verifying if the scientific name in the body of the article matches with actual scientific name of the plant\n",
        "      print(\"Scientific name is present in body of the article :\",id)\n",
        "    else:\n",
        "      \n",
        "      print(\"Scientific name is not present in body of the article :\",id)\n",
        "\n",
        "#Checking for scientific name in the abstract of the article\n",
        "    extract_abstract_sci_pharm = abstract_text[sci_name_abstract:sci_name_abstract+ len_sci_pharm] #the scientific name is extracted from the abstract of the article using string slicing\n",
        "    print(\"scientific name\",extract_abstract_sci_pharm)\n",
        "    if extract_abstract_sci_pharm == scientific_name_pharm : # verifying if the scientific name in the abstract of the article matches with actual scientific name of the plant\n",
        "      print(\"Scientific name is present in abstract of the article :\",id)\n",
        "    else:\n",
        "      \n",
        "      print(\"Scientific name is not present in  abstract of the article :\",id)          \n"
      ],
      "metadata": {
        "id": "S0INnpnrIEsO"
      },
      "execution_count": null,
      "outputs": []
    },
    {
      "cell_type": "code",
      "source": [
        "\"\"\" \n",
        "#code for checking through all pharmaceutical name and retreive the corresponding article id\n",
        "phram_name = art1_pharm['name']\n",
        "term_pharm = '' # input the common name of medicinal plant\n",
        "\n",
        "for j in phram_name:\n",
        "    \n",
        "    term_pharm = f\"{j}[name]\"\n",
        "    print(term_pharm)\n",
        "    handle = Entrez.esearch(db =\"pmc\", term= term_pharm,retmax= \"50\")# search and retrieve max 50 article id for each pharmaceutical name\n",
        "    rec_list = Entrez.read(handle)\n",
        "    handle.close()\n",
        "    print(rec_list['Count'])\n",
        "    print(len(rec_list['IdList']))\n",
        "    print(rec_list['IdList'])\n",
        "    total_id = rec_list['IdList']\n",
        "\"\"\""
      ],
      "metadata": {
        "id": "wDG77LCM6aAA"
      },
      "execution_count": null,
      "outputs": []
    },
    {
      "cell_type": "code",
      "source": [
        "\"\"\"\n",
        "#Code to retreive if search criteria has two or more parameters like genus and species.\n",
        "pharm_gen= art1_pharm['genus'].tolist() #convert the genus column to list\n",
        "pharm_spe= art1_pharm['species'].tolist() #convert the species column to list\n",
        "term = '' # input the common name of medicinal plant\n",
        "for (i,j) in zip(pharm_gen,pharm_spe):\n",
        "    \n",
        "    term = f\"{i}[genus] AND {j}[species]\"\n",
        "    print(term)\n",
        "    handle = Entrez.esearch(db =\"pmc\", term= term,retmax= \"50\")\n",
        "    rec_list = Entrez.read(handle)\n",
        "    handle.close()\n",
        "    print(rec_list['Count'])\n",
        "    print(len(rec_list['IdList']))\n",
        "    print(rec_list['IdList'])\n",
        "    total_id = rec_list['IdList']\n",
        "\n",
        "\"\"\""
      ],
      "metadata": {
        "id": "AqHQPGHP6pyh"
      },
      "execution_count": null,
      "outputs": []
    },
    {
      "cell_type": "markdown",
      "source": [
        "**Reference:**\n",
        "Entrez is a molecular biology database system that provides integrated access to nucleotide and protein sequence.The system is produced by the National Center for Biotechnology Information (NCBI).\n",
        "\n",
        "Entrez Programming Utilities user guide is available at : https://www.ncbi.nlm.nih.gov/books/NBK25501/"
      ],
      "metadata": {
        "id": "LO9DLLdTqHmV"
      }
    }
  ]
}